{
 "cells": [
  {
   "cell_type": "code",
   "execution_count": 7,
   "id": "d782491f",
   "metadata": {},
   "outputs": [],
   "source": [
    "import requests \n",
    "import json\n",
    "import pandas as pd "
   ]
  },
  {
   "cell_type": "code",
   "execution_count": 8,
   "id": "565498dc",
   "metadata": {},
   "outputs": [],
   "source": [
    "import requests\n",
    "from bs4 import BeautifulSoup\n",
    "\n",
    "# 發送 HTTP GET 請求獲取網頁內容\n",
    "url = \"https://courseap.itc.ntnu.edu.tw/acadmOpenCourse/index.jsp\"\n",
    "response = requests.get(url)\n",
    "html_content = response.content\n",
    "\n",
    "# 解析 HTML 內容\n",
    "soup = BeautifulSoup(html_content, 'html.parser')\n",
    "\n",
    "# 使用 BeautifulSoup 選擇器定位目標元素並提取資料\n",
    "course_list = soup.select(\".course-name\")\n",
    "for course in course_list:\n",
    "    # 提取課程名稱\n",
    "    course_name = course.text.strip()\n",
    "    \n",
    "    # 提取其他資訊\n",
    "    # ...\n",
    "    \n",
    "    # 處理或儲存資料...\n",
    "    print(course_name)\n"
   ]
  },
  {
   "cell_type": "code",
   "execution_count": 19,
   "id": "1e946310",
   "metadata": {},
   "outputs": [
    {
     "name": "stdout",
     "output_type": "stream",
     "text": [
      "Empty DataFrame\n",
      "Columns: []\n",
      "Index: []\n"
     ]
    }
   ],
   "source": [
    "import requests\n",
    "from bs4 import BeautifulSoup\n",
    "import pandas as pd\n",
    "\n",
    "url = \"https://courseap.itc.ntnu.edu.tw/acadmOpenCourse/index.jsp\"\n",
    "response = requests.get(url)\n",
    "html_content = response.content\n",
    "\n",
    "soup = BeautifulSoup(html_content, 'html.parser')\n",
    "\n",
    "course_list = soup.select(\".course-item\")\n",
    "data = []\n",
    "for course in course_list:\n",
    "    course_name = course.select_one(\".course-name\").text.strip()\n",
    "    data.append({'課程名稱': course_name})\n",
    "\n",
    "df = pd.DataFrame(data)\n",
    "print(df)\n"
   ]
  },
  {
   "cell_type": "code",
   "execution_count": null,
   "id": "e48e5345",
   "metadata": {},
   "outputs": [],
   "source": []
  }
 ],
 "metadata": {
  "kernelspec": {
   "display_name": "Python 3 (ipykernel)",
   "language": "python",
   "name": "python3"
  },
  "language_info": {
   "codemirror_mode": {
    "name": "ipython",
    "version": 3
   },
   "file_extension": ".py",
   "mimetype": "text/x-python",
   "name": "python",
   "nbconvert_exporter": "python",
   "pygments_lexer": "ipython3",
   "version": "3.9.13"
  }
 },
 "nbformat": 4,
 "nbformat_minor": 5
}
