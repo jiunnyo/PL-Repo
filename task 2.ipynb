{
 "cells": [
  {
   "cell_type": "code",
   "execution_count": 1,
   "id": "cee8e632",
   "metadata": {},
   "outputs": [
    {
     "data": {
      "text/html": [
       "<div>\n",
       "<style scoped>\n",
       "    .dataframe tbody tr th:only-of-type {\n",
       "        vertical-align: middle;\n",
       "    }\n",
       "\n",
       "    .dataframe tbody tr th {\n",
       "        vertical-align: top;\n",
       "    }\n",
       "\n",
       "    .dataframe thead th {\n",
       "        text-align: right;\n",
       "    }\n",
       "</style>\n",
       "<table border=\"1\" class=\"dataframe\">\n",
       "  <thead>\n",
       "    <tr style=\"text-align: right;\">\n",
       "      <th></th>\n",
       "      <th>Player Name</th>\n",
       "      <th>Team-name</th>\n",
       "      <th>Age</th>\n",
       "      <th>Position</th>\n",
       "      <th>App</th>\n",
       "      <th>MinP</th>\n",
       "      <th>Goals</th>\n",
       "      <th>Assist</th>\n",
       "      <th>YC</th>\n",
       "      <th>RC</th>\n",
       "      <th>SPG</th>\n",
       "      <th>PS%</th>\n",
       "      <th>AW</th>\n",
       "      <th>MOTM</th>\n",
       "      <th>Rating</th>\n",
       "    </tr>\n",
       "  </thead>\n",
       "  <tbody>\n",
       "    <tr>\n",
       "      <th>0</th>\n",
       "      <td>Robert Lewandowski</td>\n",
       "      <td>Barcelona</td>\n",
       "      <td>34</td>\n",
       "      <td>FW</td>\n",
       "      <td>20(1)</td>\n",
       "      <td>1682</td>\n",
       "      <td>15.0</td>\n",
       "      <td>5.0</td>\n",
       "      <td>NaN</td>\n",
       "      <td>1.0</td>\n",
       "      <td>3.8</td>\n",
       "      <td>79</td>\n",
       "      <td>1.6</td>\n",
       "      <td>7.0</td>\n",
       "      <td>7.53</td>\n",
       "    </tr>\n",
       "    <tr>\n",
       "      <th>1</th>\n",
       "      <td>Karim Benzema</td>\n",
       "      <td>Real Madrid</td>\n",
       "      <td>35</td>\n",
       "      <td>FW</td>\n",
       "      <td>15</td>\n",
       "      <td>1306</td>\n",
       "      <td>11.0</td>\n",
       "      <td>3.0</td>\n",
       "      <td>1.0</td>\n",
       "      <td>NaN</td>\n",
       "      <td>4.7</td>\n",
       "      <td>87</td>\n",
       "      <td>0.7</td>\n",
       "      <td>4.0</td>\n",
       "      <td>7.45</td>\n",
       "    </tr>\n",
       "    <tr>\n",
       "      <th>2</th>\n",
       "      <td>Antoine Griezmann</td>\n",
       "      <td>Atletico</td>\n",
       "      <td>31</td>\n",
       "      <td>AM(CLR) FW</td>\n",
       "      <td>18(7)</td>\n",
       "      <td>1693</td>\n",
       "      <td>8.0</td>\n",
       "      <td>8.0</td>\n",
       "      <td>NaN</td>\n",
       "      <td>NaN</td>\n",
       "      <td>2.6</td>\n",
       "      <td>81.5</td>\n",
       "      <td>0.8</td>\n",
       "      <td>5.0</td>\n",
       "      <td>7.45</td>\n",
       "    </tr>\n",
       "    <tr>\n",
       "      <th>3</th>\n",
       "      <td>Vinícius Júnior</td>\n",
       "      <td>Real Madrid</td>\n",
       "      <td>22</td>\n",
       "      <td>AM(L) FW</td>\n",
       "      <td>24</td>\n",
       "      <td>2122</td>\n",
       "      <td>8.0</td>\n",
       "      <td>4.0</td>\n",
       "      <td>8.0</td>\n",
       "      <td>NaN</td>\n",
       "      <td>2.5</td>\n",
       "      <td>82.3</td>\n",
       "      <td>NaN</td>\n",
       "      <td>4.0</td>\n",
       "      <td>7.38</td>\n",
       "    </tr>\n",
       "    <tr>\n",
       "      <th>4</th>\n",
       "      <td>Pedri</td>\n",
       "      <td>Barcelona</td>\n",
       "      <td>20</td>\n",
       "      <td>AM(CL)</td>\n",
       "      <td>18(3)</td>\n",
       "      <td>1634</td>\n",
       "      <td>6.0</td>\n",
       "      <td>NaN</td>\n",
       "      <td>2.0</td>\n",
       "      <td>NaN</td>\n",
       "      <td>0.8</td>\n",
       "      <td>88.5</td>\n",
       "      <td>NaN</td>\n",
       "      <td>3.0</td>\n",
       "      <td>7.28</td>\n",
       "    </tr>\n",
       "  </tbody>\n",
       "</table>\n",
       "</div>"
      ],
      "text/plain": [
       "          Player Name    Team-name  Age       Position    App  MinP  Goals  \\\n",
       "0  Robert Lewandowski    Barcelona   34             FW  20(1)  1682   15.0   \n",
       "1       Karim Benzema  Real Madrid   35             FW     15  1306   11.0   \n",
       "2   Antoine Griezmann     Atletico   31     AM(CLR) FW  18(7)  1693    8.0   \n",
       "3     Vinícius Júnior  Real Madrid   22       AM(L) FW     24  2122    8.0   \n",
       "4               Pedri    Barcelona   20         AM(CL)  18(3)  1634    6.0   \n",
       "\n",
       "   Assist   YC   RC  SPG   PS%   AW  MOTM  Rating  \n",
       "0     5.0  NaN  1.0  3.8    79  1.6   7.0    7.53  \n",
       "1     3.0  1.0  NaN  4.7    87  0.7   4.0    7.45  \n",
       "2     8.0  NaN  NaN  2.6  81.5  0.8   5.0    7.45  \n",
       "3     4.0  8.0  NaN  2.5  82.3  NaN   4.0    7.38  \n",
       "4     NaN  2.0  NaN  0.8  88.5  NaN   3.0    7.28  "
      ]
     },
     "execution_count": 1,
     "metadata": {},
     "output_type": "execute_result"
    }
   ],
   "source": [
    "import pandas as pd\n",
    "data = pd.read_csv('lalaiga 2 all player final - lalaiga 2 all player.csv')\n",
    "data.head()"
   ]
  },
  {
   "cell_type": "code",
   "execution_count": 13,
   "id": "0d5ee994",
   "metadata": {},
   "outputs": [
    {
     "data": {
      "application/vnd.plotly.v1+json": {
       "config": {
        "plotlyServerURL": "https://plot.ly"
       },
       "data": [
        {
         "alignmentgroup": "True",
         "hovertemplate": "Player Name=%{x}<br>Age=%{y}<extra></extra>",
         "legendgroup": "",
         "marker": {
          "color": "#636efa",
          "pattern": {
           "shape": ""
          }
         },
         "name": "",
         "offsetgroup": "",
         "orientation": "v",
         "showlegend": false,
         "textposition": "auto",
         "type": "bar",
         "x": [
          "Robert Lewandowski",
          "Karim Benzema",
          "Antoine Griezmann",
          "Vinícius Júnior",
          "Pedri",
          "Federico Valverde",
          "Mikel Merino",
          "Joselu",
          "Rodrygo",
          "Memphis Depay",
          "Aleix García",
          "Ousmane Dembélé",
          "Pape Gueye",
          "Jeremías Ledesma",
          "Gonzalo Escalante",
          "Sergi Darder",
          "Frenkie de Jong",
          "Enes Ünal",
          "José Gayà",
          "Iago Aspas",
          "Éder Militão",
          "Javi Galán",
          "Toni Kroos",
          "Jordi Masip",
          "Raphinha",
          "Daniel Parejo",
          "Isi Palazón",
          "Vedat Muriqi",
          "Brais Méndez",
          "Sergi Guardiola",
          "Aurélien Tchouaméni",
          "Juan Foyth",
          "Marko Dmitrovic",
          "Jules Koundé",
          "Gerard Moreno",
          "Sergio Busquets",
          "Lucas Robertone",
          "Viktor Tsygankov",
          "Alejandro Balde",
          "José Giménez",
          "Andreas Christensen",
          "Ramón Terrats",
          "Reinildo",
          "Félix Garreta",
          "Marc-André ter Stegen",
          "Iván Villar",
          "Gabri Veiga",
          "Aitor Fernández",
          "Guido Rodríguez",
          "Lee Kang-In",
          "Yeray Álvarez",
          "Álvaro Morata",
          "Alexander Sørloth",
          "David García",
          "Jordi Alba",
          "Vinicius Souza",
          "Gavi",
          "Gerard Piqué",
          "Álvaro García",
          "Takefusa Kubo",
          "Loïc Badé",
          "Álex Moreno",
          "Ronald Araújo",
          "Eric García",
          "Thibaut Courtois",
          "Iza Carcelén",
          "Nico Williams",
          "Samuel Chukwueze",
          "Fernando Pacheco",
          "William Carvalho",
          "André Almeida",
          "Luka Modric",
          "Anuar Tuhami",
          "Pau Torres",
          "Samuel Lino",
          "Borja García",
          "Eduardo Camavinga",
          "Iker Muniain",
          "Dani Vivian",
          "Germán Pezzella",
          "Aitor Ruibal",
          "Luis Suárez",
          "Marcos Llorente",
          "Diego Rico",
          "Florian Lejeune",
          "David López",
          "Juan Miranda",
          "Alexander Isak",
          "Moi Gómez",
          "David Silva",
          "Alfonso Pedraza",
          "Eray Cömert",
          "Antonio Raíllo",
          "Pablo Maffeo",
          "David Soria",
          "Dani Ceballos",
          "Sergi Roberto",
          "Iñaki Williams",
          "Omar Alderete",
          "Unai Núñez",
          "Yuri Berchiche",
          "Alex Berenguer",
          "Robin Le Normand",
          "Alejandro Catena",
          "Marcos Acuña",
          "Íñigo Martínez",
          "Stefan Savic",
          "Carlos García",
          "Sergio Canales",
          "Borja Iglesias",
          "Joseph Aidoo",
          "Darwin Machís",
          "Iván Fresneda",
          "El Bilal Touré",
          "Rui Silva",
          "Martín Zubimendi",
          "Chimy Avila",
          "Fernando Martínez",
          "Santi Comesaña",
          "Raúl Albiol",
          "Gonzalo Plata",
          "Marco Asensio",
          "Óscar Valentín",
          "Igor Zubeldia",
          "Youssouf Sabaly",
          "Martin Braithwaite",
          "Edgar Badia",
          "Thierry Correia",
          "Oihan Sancet",
          "Giovanni González",
          "Justin Kluivert",
          "Álex Remiro",
          "Fran García",
          "Ferland Mendy",
          "Lucas Rosa",
          "Cyle Larin",
          "Edgar González",
          "Jan Oblak",
          "Koke",
          "Nabil Fekir",
          "Nemanja Gudelj",
          "Yeremy Pino",
          "Oriol Romeu",
          "Arnau Martinez",
          "Álex Collado",
          "Gonzalo Melero",
          "Brian Oliván",
          "Luiz Henrique",
          "Sergio Escudero",
          "Joaquín Fernández",
          "Rodrigo De Paul",
          "Andriy Lunin",
          "Geoffrey Kondogbia",
          "Sergio Camello",
          "Giorgi Mamardashvili",
          "Lucas Torró",
          "Alfonso Espino",
          "Aridane Hernández",
          "Óliver Torres",
          "Predrag Rajkovic",
          "Mikel Vesga",
          "Yannick Carrasco",
          "Javi Sánchez",
          "Dani Rodríguez",
          "Adrián Embarba",
          "Lucas Boyé",
          "Julen Agirrezabala",
          "Óscar Trejo",
          "Íñigo Lekue",
          "Claudio Bravo",
          "Federico Fernández",
          "Nahuel Molina",
          "Jawad El Yamiq",
          "Óscar De Marcos",
          "Íñigo Ruíz de Galarreta",
          "Luis Pérez",
          "Álvaro Aceves",
          "Mario Hermoso",
          "Mouctar Diakhaby",
          "Thomas Lemar",
          "Etienne Capoue",
          "David Alaba",
          "Nacho",
          "Pablo Barrios",
          "Óscar Plano",
          "Álex Sola",
          "Umar Sadiq",
          "Memphis Depay",
          "Stole Dimitrievski",
          "Antonio Rüdiger",
          "Giovani Lo Celso",
          "Kike Pérez",
          "Marcos Alonso",
          "Axel Witsel",
          "Valentín Castellanos",
          "Santiago Bueno",
          "Luis Milla",
          "Jorge Cuenca",
          "Lucas Vázquez",
          "Ayoze Pérez",
          "Álex Baena",
          "Copete",
          "Suso",
          "Paulo Gazzaniga",
          "Marcão",
          "Léo Baptistão",
          "César Montes",
          "Jaume Costa",
          "Daniel Carvajal",
          "Isco",
          "Rubén Alcaraz",
          "Rodrigo Riquelme",
          "Samu Castillejo",
          "Omar Mascarell",
          "Sergio Herrera",
          "Franco Cervi",
          "Manu Sánchez",
          "Andrés Guardado",
          "Iván Sánchez",
          "Cenk Özkacar",
          "Hugo Mallo",
          "Asier Illarramendi",
          "Domingos Duarte",
          "Rubén Sobrino",
          "Yan Couto",
          "Damián Suárez",
          "Fernando",
          "Haris Seferovic",
          "Martín Montoya",
          "Monchu",
          "Juanmi",
          "Unai Simón",
          "Pere Milla",
          "Théo Bongonda",
          "Gumbau",
          "Diego Mariño",
          "José Gragera",
          "Aïssa Mandi",
          "Rodri",
          "Leandro Cabrera",
          "Aimar Oroz",
          "Iván Balliu",
          "Ivo Grbic",
          "Alex Telles",
          "Ansu Fati",
          "Bryan Gil",
          "César de la Hoz",
          "Agustín Marchesín",
          "Edu Expósito",
          "Martin Valjent",
          "Víctor Ruiz",
          "Juan Iglesias",
          "Hugo Guillamón",
          "Ivan Rakitic",
          "Edinson Cavani",
          "Brian Ocampo",
          "Gastón Álvarez",
          "Youssef En-Nesyri",
          "Haissem Hassan",
          "Samú Costa",
          "Rubén Sánchez",
          "Roque Mesa",
          "Djené Dakonam",
          "Mauro Arambarri",
          "Nacho Vidal",
          "Sergio Akieme",
          "Rubén García",
          "Nico González",
          "Luiz Felipe",
          "Óscar Rodríguez",
          "Álvaro Aguado",
          "Ante Budimir",
          "Borja Mayoral",
          "Mikel Oyarzabal",
          "Fali",
          "Pablo Ibáñez",
          "Aritz Elustondo",
          "Ander Barrenetxea",
          "Yunus Musah",
          "Yangel Herrera",
          "Jørgen Strand Larsen",
          "Saúl Ñíguez",
          "Lucas Olaza",
          "Fran Beltrán",
          "Miguel Gutiérrez",
          "Kike Barja",
          "Óscar Gil",
          "Ferran Torres",
          "Gorka Guruzeta",
          "Momo Cho",
          "Sergi Gómez",
          "Clerc",
          "Ángel Correa",
          "Jon Pacheco",
          "Álvaro Negredo",
          "Toni Villa",
          "Álvaro Fernández",
          "Erik Lamela",
          "Tinotenda Kadewere",
          "Denis Suárez",
          "Abdessamad Ezzalzouli",
          "Alejandro Pozo",
          "Nicolas Jackson",
          "Yassine Bounou",
          "Dani García",
          "Rubén Peña",
          "Kiko Femenía",
          "Pol Lirola",
          "Momo Mbaye",
          "Johan Mojica",
          "Rodrigo Ely",
          "Lucas Ocampos",
          "Ander Guevara",
          "Nemanja Maksimovic",
          "Francis Coquelin",
          "Kevin Vázquez",
          "Luca de la Torre",
          "Fernando Calero",
          "Luis Hernández",
          "José Morales",
          "José Ángel Carmona",
          "Iván Martín",
          "Toni Lato",
          "Juan Cruz",
          "Óscar Mingueza",
          "Pathé Ciss",
          "Álex Fernández",
          "Filip Jörgensen",
          "Srdjan Babic",
          "Javi Hernández",
          "Unai López",
          "Álvaro Rodríguez",
          "Joan Jordán",
          "Jesús Navas",
          "Victor Chust",
          "Carles Pérez",
          "Manu Vallejo",
          "Javier Puado",
          "Stefan Mitrovic",
          "Andoni Gorosabel",
          "Ilaix Moriba",
          "Aihen Muñoz",
          "Joseba Zaldúa",
          "Raúl García",
          "Jon Moncayola",
          "Munir El Haddadi",
          "Pepe Reina",
          "Matija Nastasic",
          "Jon Ander Olasagasti",
          "Alberto Moreno",
          "Joaquín",
          "Unai García",
          "Chris Ramos",
          "Lautaro Blanco",
          "Chumi",
          "Juan Cruz",
          "José Carlos Lazo",
          "Helibelton Palacios",
          "Hugo Sotelo",
          "Gabriel Paulista",
          "Largie Ramazani",
          "Darko Brasanac",
          "José Ángel Carmona",
          "Rober",
          "Tanguy Nianzou",
          "Kike Salas",
          "Iddrisu Baba",
          "Adnan Januzaj",
          "Cristhian Stuani",
          "Andrés Martín",
          "Juan Carlos Martín",
          "Valery Fernández",
          "Johan Mojica",
          "Jesús Vázquez",
          "Carles Aleñá",
          "Tete Morente",
          "Zouhair Feddal",
          "Abdul Mumin",
          "Pedro Bigas",
          "Amath Ndiaye",
          "Kaiky",
          "Sergio León",
          "Juan Cala",
          "Diego Moreno",
          "Papu Gómez",
          "Íñigo Eguaras",
          "Dimitri Foulquier",
          "Renato Tapia",
          "Carlos Fernández",
          "Roger",
          "Rafa Mir",
          "Gonzalo Verdú",
          "Álvaro Odriozola",
          "Kike García",
          "Ezequiel Ponce",
          "Franck Kessie",
          "Lucas Pérez",
          "Reinier",
          "Anthony Lozano",
          "Keidi Bare",
          "Ander Herrera",
          "Oscar Ureña",
          "Clément Grenier",
          "Raúl de Tomás",
          "Randy Nteka",
          "Paul Akouokou",
          "Francisco Portillo",
          "Alexander Callens",
          "Ángel Algobia",
          "José Mari",
          "Lázaro",
          "Ronaël Pierre-Gabriel",
          "Arnaut Danjuma",
          "Bernardo Espinosa",
          "Portu",
          "Augusto Solari",
          "Mikel Balenziaga",
          "Lisandro Magallán",
          "Cristhian Mosquera",
          "Marcos André",
          "Fede San Emeterio",
          "Abner",
          "Malcom Adu",
          "Nicolás Melamed",
          "Aleix Vidal",
          "Jon Magunacelaya",
          "Juanpe",
          "Pierre-Emerick Aubameyang",
          "Hugo Duro",
          "Ander Martín",
          "Nicolás Fernández Mercau",
          "Gonzalo Montiel",
          "Dyego Sousa",
          "Benjamin Lecomte",
          "Oier Zarraga",
          "Jesús Corona",
          "Martin Hongla",
          "Fidel",
          "Enzo Roco",
          "Gonçalo Paciência",
          "Franco Russo",
          "Juanmi Latasa",
          "José Carlos Lazo",
          "Gonzalo Villar",
          "Diego González",
          "Bebé",
          "Robert Navarro",
          "Antonio Blanco",
          "Aitor Paredes",
          "Raúl Parra",
          "Jon Morcillo",
          "Iván Alejo",
          "Manu Morlanes",
          "Ricard Artero",
          "Rodrigo Battaglia",
          "Raúl Guti",
          "Abdón Prats",
          "Ander Capa",
          "Sergio Asenjo",
          "Eden Hazard",
          "Willian José",
          "Toni Villa",
          "Sergio Arribas",
          "Salvi Sánchez",
          "Radamel Falcao",
          "Antonio Sánchez",
          "Manu Morlanes",
          "Jaime Seoane",
          "Omar El Hilali",
          "Simo",
          "David Torres",
          "Pep Chavarría",
          "Beñat Turrientes",
          "Roger",
          "Joel Roca",
          "Álex Centelles",
          "Curro Sánchez",
          "Arnau Puigmal",
          "Josan",
          "Carlos Domínguez",
          "Carlos Martín",
          "Moi Parra",
          "Ángel Rodríguez",
          "Santiago Arzamendia",
          "Pablo Durán",
          "Iker Muñoz",
          "Nabili Zoubdi Touaizi",
          "José Ángel Pozo",
          "Manu Trigueros",
          "Lago Junior",
          "Jorge Meré",
          "Matt Doherty",
          "Fabrizio Angileri",
          "Jordan Amavi",
          "Loren Morón",
          "Mamady Diarra",
          "Roberto Arroyo",
          "Pablo Torre",
          "Dani Gómez",
          "Luka Koleosho",
          "Javi Llabrés",
          "Fran Delgado",
          "Fran Pérez",
          "Ángel Alarcón",
          "Mario Suárez",
          "Juanjo Narváez",
          "Jon Karrikaburu",
          "Maximiliano Gómez",
          "Pablo Muñoz",
          "Unai Vencedor",
          "Mariano Díaz",
          "Houboulang Mendes",
          "Ludwig Augustinsson",
          "Álex Revuelta",
          "Ángel Alarcón",
          "Arnau Tenas",
          "Chadi Riad",
          "Diego Méndez",
          "Esteban Saveljich",
          "Pedro Ortiz",
          "Williot Swedberg",
          "Domingos Quina",
          "Diego López",
          "Marko Milovanovic",
          "Awer Mabil",
          "Kenedy",
          "Jaime Mata",
          "Fernando Niño",
          "Alejandro Alfaro",
          "Selim Amallah",
          "Youba Diarra",
          "Javier Pastore",
          "Mario Hernández",
          "Iván Romero",
          "Sergio Reguilón",
          "Roger Martínez",
          "Pape Cheikh",
          "Carlos Álvarez",
          "Tomás Alarcón",
          "Álvaro Giménez",
          "John Donald",
          "Diego López"
         ],
         "xaxis": "x",
         "y": [
          34,
          35,
          31,
          22,
          20,
          24,
          26,
          32,
          22,
          29,
          25,
          25,
          24,
          30,
          29,
          29,
          25,
          25,
          27,
          35,
          25,
          28,
          33,
          34,
          26,
          33,
          28,
          28,
          26,
          31,
          23,
          25,
          31,
          24,
          30,
          34,
          25,
          25,
          19,
          28,
          26,
          22,
          29,
          18,
          30,
          25,
          20,
          31,
          28,
          22,
          28,
          30,
          27,
          29,
          33,
          23,
          18,
          36,
          30,
          21,
          22,
          29,
          24,
          22,
          30,
          29,
          20,
          23,
          30,
          30,
          22,
          37,
          28,
          26,
          23,
          32,
          20,
          30,
          23,
          31,
          26,
          25,
          28,
          30,
          31,
          33,
          23,
          23,
          28,
          37,
          26,
          25,
          31,
          25,
          29,
          26,
          31,
          28,
          26,
          26,
          33,
          27,
          26,
          28,
          31,
          31,
          32,
          22,
          32,
          30,
          27,
          30,
          18,
          21,
          29,
          24,
          29,
          32,
          26,
          37,
          22,
          27,
          28,
          25,
          30,
          31,
          31,
          24,
          22,
          28,
          23,
          27,
          23,
          27,
          22,
          27,
          25,
          30,
          31,
          29,
          31,
          20,
          31,
          19,
          23,
          29,
          28,
          22,
          33,
          26,
          28,
          24,
          30,
          22,
          22,
          28,
          31,
          33,
          28,
          27,
          29,
          29,
          26,
          34,
          30,
          27,
          22,
          34,
          29,
          39,
          34,
          24,
          31,
          33,
          29,
          28,
          19,
          27,
          26,
          27,
          34,
          30,
          33,
          19,
          32,
          23,
          26,
          29,
          29,
          30,
          26,
          26,
          32,
          34,
          24,
          24,
          28,
          23,
          31,
          29,
          21,
          23,
          29,
          31,
          26,
          30,
          26,
          34,
          31,
          30,
          31,
          22,
          28,
          30,
          29,
          28,
          22,
          36,
          30,
          22,
          31,
          33,
          28,
          30,
          20,
          34,
          35,
          31,
          31,
          23,
          29,
          25,
          30,
          27,
          28,
          32,
          22,
          31,
          23,
          31,
          21,
          31,
          27,
          30,
          20,
          22,
          30,
          34,
          26,
          27,
          34,
          24,
          23,
          35,
          36,
          23,
          22,
          25,
          21,
          22,
          22,
          33,
          31,
          27,
          28,
          25,
          29,
          21,
          25,
          24,
          26,
          31,
          25,
          25,
          29,
          24,
          28,
          21,
          20,
          25,
          23,
          28,
          28,
          24,
          21,
          25,
          24,
          23,
          26,
          19,
          30,
          31,
          28,
          22,
          37,
          28,
          24,
          31,
          27,
          29,
          21,
          24,
          21,
          31,
          32,
          31,
          32,
          25,
          24,
          30,
          29,
          28,
          25,
          28,
          31,
          29,
          24,
          27,
          33,
          35,
          21,
          24,
          25,
          30,
          23,
          28,
          30,
          20,
          26,
          24,
          27,
          18,
          28,
          37,
          23,
          25,
          26,
          24,
          32,
          26,
          20,
          25,
          30,
          36,
          24,
          27,
          40,
          29,
          22,
          30,
          41,
          31,
          26,
          24,
          24,
          22,
          27,
          29,
          19,
          32,
          22,
          31,
          21,
          22,
          20,
          20,
          27,
          28,
          36,
          23,
          35,
          23,
          30,
          20,
          25,
          26,
          33,
          24,
          32,
          26,
          19,
          34,
          33,
          21,
          35,
          31,
          29,
          27,
          26,
          32,
          25,
          34,
          27,
          33,
          25,
          26,
          34,
          21,
          29,
          25,
          33,
          19,
          32,
          28,
          25,
          25,
          32,
          30,
          23,
          35,
          21,
          24,
          26,
          33,
          30,
          31,
          35,
          29,
          18,
          26,
          25,
          22,
          21,
          21,
          33,
          21,
          31,
          33,
          23,
          22,
          23,
          26,
          33,
          31,
          24,
          30,
          24,
          33,
          30,
          28,
          28,
          21,
          27,
          24,
          28,
          32,
          20,
          22,
          22,
          23,
          24,
          28,
          24,
          20,
          31,
          26,
          30,
          31,
          33,
          32,
          31,
          28,
          21,
          31,
          37,
          25,
          24,
          26,
          19,
          18,
          20,
          24,
          21,
          32,
          17,
          23,
          27,
          22,
          33,
          22,
          20,
          20,
          35,
          24,
          21,
          20,
          22,
          27,
          31,
          32,
          25,
          31,
          29,
          29,
          29,
          22,
          19,
          19,
          24,
          18,
          20,
          21,
          20,
          18,
          36,
          28,
          20,
          26,
          19,
          22,
          29,
          24,
          28,
          22,
          18,
          21,
          19,
          19,
          31,
          22,
          19,
          23,
          20,
          19,
          27,
          27,
          34,
          22,
          20,
          26,
          24,
          33,
          24,
          21,
          26,
          18,
          25,
          19,
          24,
          31,
          22,
          41
         ],
         "yaxis": "y"
        }
       ],
       "layout": {
        "barmode": "relative",
        "legend": {
         "tracegroupgap": 0
        },
        "margin": {
         "t": 60
        },
        "template": {
         "data": {
          "bar": [
           {
            "error_x": {
             "color": "#2a3f5f"
            },
            "error_y": {
             "color": "#2a3f5f"
            },
            "marker": {
             "line": {
              "color": "#E5ECF6",
              "width": 0.5
             },
             "pattern": {
              "fillmode": "overlay",
              "size": 10,
              "solidity": 0.2
             }
            },
            "type": "bar"
           }
          ],
          "barpolar": [
           {
            "marker": {
             "line": {
              "color": "#E5ECF6",
              "width": 0.5
             },
             "pattern": {
              "fillmode": "overlay",
              "size": 10,
              "solidity": 0.2
             }
            },
            "type": "barpolar"
           }
          ],
          "carpet": [
           {
            "aaxis": {
             "endlinecolor": "#2a3f5f",
             "gridcolor": "white",
             "linecolor": "white",
             "minorgridcolor": "white",
             "startlinecolor": "#2a3f5f"
            },
            "baxis": {
             "endlinecolor": "#2a3f5f",
             "gridcolor": "white",
             "linecolor": "white",
             "minorgridcolor": "white",
             "startlinecolor": "#2a3f5f"
            },
            "type": "carpet"
           }
          ],
          "choropleth": [
           {
            "colorbar": {
             "outlinewidth": 0,
             "ticks": ""
            },
            "type": "choropleth"
           }
          ],
          "contour": [
           {
            "colorbar": {
             "outlinewidth": 0,
             "ticks": ""
            },
            "colorscale": [
             [
              0,
              "#0d0887"
             ],
             [
              0.1111111111111111,
              "#46039f"
             ],
             [
              0.2222222222222222,
              "#7201a8"
             ],
             [
              0.3333333333333333,
              "#9c179e"
             ],
             [
              0.4444444444444444,
              "#bd3786"
             ],
             [
              0.5555555555555556,
              "#d8576b"
             ],
             [
              0.6666666666666666,
              "#ed7953"
             ],
             [
              0.7777777777777778,
              "#fb9f3a"
             ],
             [
              0.8888888888888888,
              "#fdca26"
             ],
             [
              1,
              "#f0f921"
             ]
            ],
            "type": "contour"
           }
          ],
          "contourcarpet": [
           {
            "colorbar": {
             "outlinewidth": 0,
             "ticks": ""
            },
            "type": "contourcarpet"
           }
          ],
          "heatmap": [
           {
            "colorbar": {
             "outlinewidth": 0,
             "ticks": ""
            },
            "colorscale": [
             [
              0,
              "#0d0887"
             ],
             [
              0.1111111111111111,
              "#46039f"
             ],
             [
              0.2222222222222222,
              "#7201a8"
             ],
             [
              0.3333333333333333,
              "#9c179e"
             ],
             [
              0.4444444444444444,
              "#bd3786"
             ],
             [
              0.5555555555555556,
              "#d8576b"
             ],
             [
              0.6666666666666666,
              "#ed7953"
             ],
             [
              0.7777777777777778,
              "#fb9f3a"
             ],
             [
              0.8888888888888888,
              "#fdca26"
             ],
             [
              1,
              "#f0f921"
             ]
            ],
            "type": "heatmap"
           }
          ],
          "heatmapgl": [
           {
            "colorbar": {
             "outlinewidth": 0,
             "ticks": ""
            },
            "colorscale": [
             [
              0,
              "#0d0887"
             ],
             [
              0.1111111111111111,
              "#46039f"
             ],
             [
              0.2222222222222222,
              "#7201a8"
             ],
             [
              0.3333333333333333,
              "#9c179e"
             ],
             [
              0.4444444444444444,
              "#bd3786"
             ],
             [
              0.5555555555555556,
              "#d8576b"
             ],
             [
              0.6666666666666666,
              "#ed7953"
             ],
             [
              0.7777777777777778,
              "#fb9f3a"
             ],
             [
              0.8888888888888888,
              "#fdca26"
             ],
             [
              1,
              "#f0f921"
             ]
            ],
            "type": "heatmapgl"
           }
          ],
          "histogram": [
           {
            "marker": {
             "pattern": {
              "fillmode": "overlay",
              "size": 10,
              "solidity": 0.2
             }
            },
            "type": "histogram"
           }
          ],
          "histogram2d": [
           {
            "colorbar": {
             "outlinewidth": 0,
             "ticks": ""
            },
            "colorscale": [
             [
              0,
              "#0d0887"
             ],
             [
              0.1111111111111111,
              "#46039f"
             ],
             [
              0.2222222222222222,
              "#7201a8"
             ],
             [
              0.3333333333333333,
              "#9c179e"
             ],
             [
              0.4444444444444444,
              "#bd3786"
             ],
             [
              0.5555555555555556,
              "#d8576b"
             ],
             [
              0.6666666666666666,
              "#ed7953"
             ],
             [
              0.7777777777777778,
              "#fb9f3a"
             ],
             [
              0.8888888888888888,
              "#fdca26"
             ],
             [
              1,
              "#f0f921"
             ]
            ],
            "type": "histogram2d"
           }
          ],
          "histogram2dcontour": [
           {
            "colorbar": {
             "outlinewidth": 0,
             "ticks": ""
            },
            "colorscale": [
             [
              0,
              "#0d0887"
             ],
             [
              0.1111111111111111,
              "#46039f"
             ],
             [
              0.2222222222222222,
              "#7201a8"
             ],
             [
              0.3333333333333333,
              "#9c179e"
             ],
             [
              0.4444444444444444,
              "#bd3786"
             ],
             [
              0.5555555555555556,
              "#d8576b"
             ],
             [
              0.6666666666666666,
              "#ed7953"
             ],
             [
              0.7777777777777778,
              "#fb9f3a"
             ],
             [
              0.8888888888888888,
              "#fdca26"
             ],
             [
              1,
              "#f0f921"
             ]
            ],
            "type": "histogram2dcontour"
           }
          ],
          "mesh3d": [
           {
            "colorbar": {
             "outlinewidth": 0,
             "ticks": ""
            },
            "type": "mesh3d"
           }
          ],
          "parcoords": [
           {
            "line": {
             "colorbar": {
              "outlinewidth": 0,
              "ticks": ""
             }
            },
            "type": "parcoords"
           }
          ],
          "pie": [
           {
            "automargin": true,
            "type": "pie"
           }
          ],
          "scatter": [
           {
            "fillpattern": {
             "fillmode": "overlay",
             "size": 10,
             "solidity": 0.2
            },
            "type": "scatter"
           }
          ],
          "scatter3d": [
           {
            "line": {
             "colorbar": {
              "outlinewidth": 0,
              "ticks": ""
             }
            },
            "marker": {
             "colorbar": {
              "outlinewidth": 0,
              "ticks": ""
             }
            },
            "type": "scatter3d"
           }
          ],
          "scattercarpet": [
           {
            "marker": {
             "colorbar": {
              "outlinewidth": 0,
              "ticks": ""
             }
            },
            "type": "scattercarpet"
           }
          ],
          "scattergeo": [
           {
            "marker": {
             "colorbar": {
              "outlinewidth": 0,
              "ticks": ""
             }
            },
            "type": "scattergeo"
           }
          ],
          "scattergl": [
           {
            "marker": {
             "colorbar": {
              "outlinewidth": 0,
              "ticks": ""
             }
            },
            "type": "scattergl"
           }
          ],
          "scattermapbox": [
           {
            "marker": {
             "colorbar": {
              "outlinewidth": 0,
              "ticks": ""
             }
            },
            "type": "scattermapbox"
           }
          ],
          "scatterpolar": [
           {
            "marker": {
             "colorbar": {
              "outlinewidth": 0,
              "ticks": ""
             }
            },
            "type": "scatterpolar"
           }
          ],
          "scatterpolargl": [
           {
            "marker": {
             "colorbar": {
              "outlinewidth": 0,
              "ticks": ""
             }
            },
            "type": "scatterpolargl"
           }
          ],
          "scatterternary": [
           {
            "marker": {
             "colorbar": {
              "outlinewidth": 0,
              "ticks": ""
             }
            },
            "type": "scatterternary"
           }
          ],
          "surface": [
           {
            "colorbar": {
             "outlinewidth": 0,
             "ticks": ""
            },
            "colorscale": [
             [
              0,
              "#0d0887"
             ],
             [
              0.1111111111111111,
              "#46039f"
             ],
             [
              0.2222222222222222,
              "#7201a8"
             ],
             [
              0.3333333333333333,
              "#9c179e"
             ],
             [
              0.4444444444444444,
              "#bd3786"
             ],
             [
              0.5555555555555556,
              "#d8576b"
             ],
             [
              0.6666666666666666,
              "#ed7953"
             ],
             [
              0.7777777777777778,
              "#fb9f3a"
             ],
             [
              0.8888888888888888,
              "#fdca26"
             ],
             [
              1,
              "#f0f921"
             ]
            ],
            "type": "surface"
           }
          ],
          "table": [
           {
            "cells": {
             "fill": {
              "color": "#EBF0F8"
             },
             "line": {
              "color": "white"
             }
            },
            "header": {
             "fill": {
              "color": "#C8D4E3"
             },
             "line": {
              "color": "white"
             }
            },
            "type": "table"
           }
          ]
         },
         "layout": {
          "annotationdefaults": {
           "arrowcolor": "#2a3f5f",
           "arrowhead": 0,
           "arrowwidth": 1
          },
          "autotypenumbers": "strict",
          "coloraxis": {
           "colorbar": {
            "outlinewidth": 0,
            "ticks": ""
           }
          },
          "colorscale": {
           "diverging": [
            [
             0,
             "#8e0152"
            ],
            [
             0.1,
             "#c51b7d"
            ],
            [
             0.2,
             "#de77ae"
            ],
            [
             0.3,
             "#f1b6da"
            ],
            [
             0.4,
             "#fde0ef"
            ],
            [
             0.5,
             "#f7f7f7"
            ],
            [
             0.6,
             "#e6f5d0"
            ],
            [
             0.7,
             "#b8e186"
            ],
            [
             0.8,
             "#7fbc41"
            ],
            [
             0.9,
             "#4d9221"
            ],
            [
             1,
             "#276419"
            ]
           ],
           "sequential": [
            [
             0,
             "#0d0887"
            ],
            [
             0.1111111111111111,
             "#46039f"
            ],
            [
             0.2222222222222222,
             "#7201a8"
            ],
            [
             0.3333333333333333,
             "#9c179e"
            ],
            [
             0.4444444444444444,
             "#bd3786"
            ],
            [
             0.5555555555555556,
             "#d8576b"
            ],
            [
             0.6666666666666666,
             "#ed7953"
            ],
            [
             0.7777777777777778,
             "#fb9f3a"
            ],
            [
             0.8888888888888888,
             "#fdca26"
            ],
            [
             1,
             "#f0f921"
            ]
           ],
           "sequentialminus": [
            [
             0,
             "#0d0887"
            ],
            [
             0.1111111111111111,
             "#46039f"
            ],
            [
             0.2222222222222222,
             "#7201a8"
            ],
            [
             0.3333333333333333,
             "#9c179e"
            ],
            [
             0.4444444444444444,
             "#bd3786"
            ],
            [
             0.5555555555555556,
             "#d8576b"
            ],
            [
             0.6666666666666666,
             "#ed7953"
            ],
            [
             0.7777777777777778,
             "#fb9f3a"
            ],
            [
             0.8888888888888888,
             "#fdca26"
            ],
            [
             1,
             "#f0f921"
            ]
           ]
          },
          "colorway": [
           "#636efa",
           "#EF553B",
           "#00cc96",
           "#ab63fa",
           "#FFA15A",
           "#19d3f3",
           "#FF6692",
           "#B6E880",
           "#FF97FF",
           "#FECB52"
          ],
          "font": {
           "color": "#2a3f5f"
          },
          "geo": {
           "bgcolor": "white",
           "lakecolor": "white",
           "landcolor": "#E5ECF6",
           "showlakes": true,
           "showland": true,
           "subunitcolor": "white"
          },
          "hoverlabel": {
           "align": "left"
          },
          "hovermode": "closest",
          "mapbox": {
           "style": "light"
          },
          "paper_bgcolor": "white",
          "plot_bgcolor": "#E5ECF6",
          "polar": {
           "angularaxis": {
            "gridcolor": "white",
            "linecolor": "white",
            "ticks": ""
           },
           "bgcolor": "#E5ECF6",
           "radialaxis": {
            "gridcolor": "white",
            "linecolor": "white",
            "ticks": ""
           }
          },
          "scene": {
           "xaxis": {
            "backgroundcolor": "#E5ECF6",
            "gridcolor": "white",
            "gridwidth": 2,
            "linecolor": "white",
            "showbackground": true,
            "ticks": "",
            "zerolinecolor": "white"
           },
           "yaxis": {
            "backgroundcolor": "#E5ECF6",
            "gridcolor": "white",
            "gridwidth": 2,
            "linecolor": "white",
            "showbackground": true,
            "ticks": "",
            "zerolinecolor": "white"
           },
           "zaxis": {
            "backgroundcolor": "#E5ECF6",
            "gridcolor": "white",
            "gridwidth": 2,
            "linecolor": "white",
            "showbackground": true,
            "ticks": "",
            "zerolinecolor": "white"
           }
          },
          "shapedefaults": {
           "line": {
            "color": "#2a3f5f"
           }
          },
          "ternary": {
           "aaxis": {
            "gridcolor": "white",
            "linecolor": "white",
            "ticks": ""
           },
           "baxis": {
            "gridcolor": "white",
            "linecolor": "white",
            "ticks": ""
           },
           "bgcolor": "#E5ECF6",
           "caxis": {
            "gridcolor": "white",
            "linecolor": "white",
            "ticks": ""
           }
          },
          "title": {
           "x": 0.05
          },
          "xaxis": {
           "automargin": true,
           "gridcolor": "white",
           "linecolor": "white",
           "ticks": "",
           "title": {
            "standoff": 15
           },
           "zerolinecolor": "white",
           "zerolinewidth": 2
          },
          "yaxis": {
           "automargin": true,
           "gridcolor": "white",
           "linecolor": "white",
           "ticks": "",
           "title": {
            "standoff": 15
           },
           "zerolinecolor": "white",
           "zerolinewidth": 2
          }
         }
        },
        "xaxis": {
         "anchor": "y",
         "domain": [
          0,
          1
         ],
         "title": {
          "text": "Player Name"
         }
        },
        "yaxis": {
         "anchor": "x",
         "domain": [
          0,
          1
         ],
         "title": {
          "text": "Age"
         }
        }
       }
      },
      "text/html": [
       "<div>                            <div id=\"232a2bc6-8371-44eb-bc7e-ac3065fd8662\" class=\"plotly-graph-div\" style=\"height:525px; width:100%;\"></div>            <script type=\"text/javascript\">                require([\"plotly\"], function(Plotly) {                    window.PLOTLYENV=window.PLOTLYENV || {};                                    if (document.getElementById(\"232a2bc6-8371-44eb-bc7e-ac3065fd8662\")) {                    Plotly.newPlot(                        \"232a2bc6-8371-44eb-bc7e-ac3065fd8662\",                        [{\"alignmentgroup\":\"True\",\"hovertemplate\":\"Player Name=%{x}<br>Age=%{y}<extra></extra>\",\"legendgroup\":\"\",\"marker\":{\"color\":\"#636efa\",\"pattern\":{\"shape\":\"\"}},\"name\":\"\",\"offsetgroup\":\"\",\"orientation\":\"v\",\"showlegend\":false,\"textposition\":\"auto\",\"x\":[\"Robert Lewandowski\",\"Karim Benzema\",\"Antoine Griezmann\",\"Vin\\u00edcius J\\u00fanior\",\"Pedri\",\"Federico Valverde\",\"Mikel Merino\",\"Joselu\",\"Rodrygo\",\"Memphis Depay\",\"Aleix Garc\\u00eda\",\"Ousmane Demb\\u00e9l\\u00e9\",\"Pape Gueye\",\"Jerem\\u00edas Ledesma\",\"Gonzalo Escalante\",\"Sergi Darder\",\"Frenkie de Jong\",\"Enes \\u00dcnal\",\"Jos\\u00e9 Gay\\u00e0\",\"Iago Aspas\",\"\\u00c9der Milit\\u00e3o\",\"Javi Gal\\u00e1n\",\"Toni Kroos\",\"Jordi Masip\",\"Raphinha\",\"Daniel Parejo\",\"Isi Palaz\\u00f3n\",\"Vedat Muriqi\",\"Brais M\\u00e9ndez\",\"Sergi Guardiola\",\"Aur\\u00e9lien Tchouam\\u00e9ni\",\"Juan Foyth\",\"Marko Dmitrovic\",\"Jules Kound\\u00e9\",\"Gerard Moreno\",\"Sergio Busquets\",\"Lucas Robertone\",\"Viktor Tsygankov\",\"Alejandro Balde\",\"Jos\\u00e9 Gim\\u00e9nez\",\"Andreas Christensen\",\"Ram\\u00f3n Terrats\",\"Reinildo\",\"F\\u00e9lix Garreta\",\"Marc-Andr\\u00e9 ter Stegen\",\"Iv\\u00e1n Villar\",\"Gabri Veiga\",\"Aitor Fern\\u00e1ndez\",\"Guido Rodr\\u00edguez\",\"Lee Kang-In\",\"Yeray \\u00c1lvarez\",\"\\u00c1lvaro Morata\",\"Alexander S\\u00f8rloth\",\"David Garc\\u00eda\",\"Jordi Alba\",\"Vinicius Souza\",\"Gavi\",\"Gerard Piqu\\u00e9\",\"\\u00c1lvaro Garc\\u00eda\",\"Takefusa Kubo\",\"Lo\\u00efc Bad\\u00e9\",\"\\u00c1lex Moreno\",\"Ronald Ara\\u00fajo\",\"Eric Garc\\u00eda\",\"Thibaut Courtois\",\"Iza Carcel\\u00e9n\",\"Nico Williams\",\"Samuel Chukwueze\",\"Fernando Pacheco\",\"William Carvalho\",\"Andr\\u00e9 Almeida\",\"Luka Modric\",\"Anuar Tuhami\",\"Pau Torres\",\"Samuel Lino\",\"Borja Garc\\u00eda\",\"Eduardo Camavinga\",\"Iker Muniain\",\"Dani Vivian\",\"Germ\\u00e1n Pezzella\",\"Aitor Ruibal\",\"Luis Su\\u00e1rez\",\"Marcos Llorente\",\"Diego Rico\",\"Florian Lejeune\",\"David L\\u00f3pez\",\"Juan Miranda\",\"Alexander Isak\",\"Moi G\\u00f3mez\",\"David Silva\",\"Alfonso Pedraza\",\"Eray C\\u00f6mert\",\"Antonio Ra\\u00edllo\",\"Pablo Maffeo\",\"David Soria\",\"Dani Ceballos\",\"Sergi Roberto\",\"I\\u00f1aki Williams\",\"Omar Alderete\",\"Unai N\\u00fa\\u00f1ez\",\"Yuri Berchiche\",\"Alex Berenguer\",\"Robin Le Normand\",\"Alejandro Catena\",\"Marcos Acu\\u00f1a\",\"\\u00cd\\u00f1igo Mart\\u00ednez\",\"Stefan Savic\",\"Carlos Garc\\u00eda\",\"Sergio Canales\",\"Borja Iglesias\",\"Joseph Aidoo\",\"Darwin Mach\\u00eds\",\"Iv\\u00e1n Fresneda\",\"El Bilal Tour\\u00e9\",\"Rui Silva\",\"Mart\\u00edn Zubimendi\",\"Chimy Avila\",\"Fernando Mart\\u00ednez\",\"Santi Comesa\\u00f1a\",\"Ra\\u00fal Albiol\",\"Gonzalo Plata\",\"Marco Asensio\",\"\\u00d3scar Valent\\u00edn\",\"Igor Zubeldia\",\"Youssouf Sabaly\",\"Martin Braithwaite\",\"Edgar Badia\",\"Thierry Correia\",\"Oihan Sancet\",\"Giovanni Gonz\\u00e1lez\",\"Justin Kluivert\",\"\\u00c1lex Remiro\",\"Fran Garc\\u00eda\",\"Ferland Mendy\",\"Lucas Rosa\",\"Cyle Larin\",\"Edgar Gonz\\u00e1lez\",\"Jan Oblak\",\"Koke\",\"Nabil Fekir\",\"Nemanja Gudelj\",\"Yeremy Pino\",\"Oriol Romeu\",\"Arnau Martinez\",\"\\u00c1lex Collado\",\"Gonzalo Melero\",\"Brian Oliv\\u00e1n\",\"Luiz Henrique\",\"Sergio Escudero\",\"Joaqu\\u00edn Fern\\u00e1ndez\",\"Rodrigo De Paul\",\"Andriy Lunin\",\"Geoffrey Kondogbia\",\"Sergio Camello\",\"Giorgi Mamardashvili\",\"Lucas Torr\\u00f3\",\"Alfonso Espino\",\"Aridane Hern\\u00e1ndez\",\"\\u00d3liver Torres\",\"Predrag Rajkovic\",\"Mikel Vesga\",\"Yannick Carrasco\",\"Javi S\\u00e1nchez\",\"Dani Rodr\\u00edguez\",\"Adri\\u00e1n Embarba\",\"Lucas Boy\\u00e9\",\"Julen Agirrezabala\",\"\\u00d3scar Trejo\",\"\\u00cd\\u00f1igo Lekue\",\"Claudio Bravo\",\"Federico Fern\\u00e1ndez\",\"Nahuel Molina\",\"Jawad El Yamiq\",\"\\u00d3scar De Marcos\",\"\\u00cd\\u00f1igo Ru\\u00edz de Galarreta\",\"Luis P\\u00e9rez\",\"\\u00c1lvaro Aceves\",\"Mario Hermoso\",\"Mouctar Diakhaby\",\"Thomas Lemar\",\"Etienne Capoue\",\"David Alaba\",\"Nacho\",\"Pablo Barrios\",\"\\u00d3scar Plano\",\"\\u00c1lex Sola\",\"Umar Sadiq\",\"Memphis Depay\",\"Stole Dimitrievski\",\"Antonio R\\u00fcdiger\",\"Giovani Lo Celso\",\"Kike P\\u00e9rez\",\"Marcos Alonso\",\"Axel Witsel\",\"Valent\\u00edn Castellanos\",\"Santiago Bueno\",\"Luis Milla\",\"Jorge Cuenca\",\"Lucas V\\u00e1zquez\",\"Ayoze P\\u00e9rez\",\"\\u00c1lex Baena\",\"Copete\",\"Suso\",\"Paulo Gazzaniga\",\"Marc\\u00e3o\",\"L\\u00e9o Baptist\\u00e3o\",\"C\\u00e9sar Montes\",\"Jaume Costa\",\"Daniel Carvajal\",\"Isco\",\"Rub\\u00e9n Alcaraz\",\"Rodrigo Riquelme\",\"Samu Castillejo\",\"Omar Mascarell\",\"Sergio Herrera\",\"Franco Cervi\",\"Manu S\\u00e1nchez\",\"Andr\\u00e9s Guardado\",\"Iv\\u00e1n S\\u00e1nchez\",\"Cenk \\u00d6zkacar\",\"Hugo Mallo\",\"Asier Illarramendi\",\"Domingos Duarte\",\"Rub\\u00e9n Sobrino\",\"Yan Couto\",\"Dami\\u00e1n Su\\u00e1rez\",\"Fernando\",\"Haris Seferovic\",\"Mart\\u00edn Montoya\",\"Monchu\",\"Juanmi\",\"Unai Sim\\u00f3n\",\"Pere Milla\",\"Th\\u00e9o Bongonda\",\"Gumbau\",\"Diego Mari\\u00f1o\",\"Jos\\u00e9 Gragera\",\"A\\u00efssa Mandi\",\"Rodri\",\"Leandro Cabrera\",\"Aimar Oroz\",\"Iv\\u00e1n Balliu\",\"Ivo Grbic\",\"Alex Telles\",\"Ansu Fati\",\"Bryan Gil\",\"C\\u00e9sar de la Hoz\",\"Agust\\u00edn Marches\\u00edn\",\"Edu Exp\\u00f3sito\",\"Martin Valjent\",\"V\\u00edctor Ruiz\",\"Juan Iglesias\",\"Hugo Guillam\\u00f3n\",\"Ivan Rakitic\",\"Edinson Cavani\",\"Brian Ocampo\",\"Gast\\u00f3n \\u00c1lvarez\",\"Youssef En-Nesyri\",\"Haissem Hassan\",\"Sam\\u00fa Costa\",\"Rub\\u00e9n S\\u00e1nchez\",\"Roque Mesa\",\"Djen\\u00e9 Dakonam\",\"Mauro Arambarri\",\"Nacho Vidal\",\"Sergio Akieme\",\"Rub\\u00e9n Garc\\u00eda\",\"Nico Gonz\\u00e1lez\",\"Luiz Felipe\",\"\\u00d3scar Rodr\\u00edguez\",\"\\u00c1lvaro Aguado\",\"Ante Budimir\",\"Borja Mayoral\",\"Mikel Oyarzabal\",\"Fali\",\"Pablo Ib\\u00e1\\u00f1ez\",\"Aritz Elustondo\",\"Ander Barrenetxea\",\"Yunus Musah\",\"Yangel Herrera\",\"J\\u00f8rgen Strand Larsen\",\"Sa\\u00fal \\u00d1\\u00edguez\",\"Lucas Olaza\",\"Fran Beltr\\u00e1n\",\"Miguel Guti\\u00e9rrez\",\"Kike Barja\",\"\\u00d3scar Gil\",\"Ferran Torres\",\"Gorka Guruzeta\",\"Momo Cho\",\"Sergi G\\u00f3mez\",\"Clerc\",\"\\u00c1ngel Correa\",\"Jon Pacheco\",\"\\u00c1lvaro Negredo\",\"Toni Villa\",\"\\u00c1lvaro Fern\\u00e1ndez\",\"Erik Lamela\",\"Tinotenda Kadewere\",\"Denis Su\\u00e1rez\",\"Abdessamad Ezzalzouli\",\"Alejandro Pozo\",\"Nicolas Jackson\",\"Yassine Bounou\",\"Dani Garc\\u00eda\",\"Rub\\u00e9n Pe\\u00f1a\",\"Kiko Femen\\u00eda\",\"Pol Lirola\",\"Momo Mbaye\",\"Johan Mojica\",\"Rodrigo Ely\",\"Lucas Ocampos\",\"Ander Guevara\",\"Nemanja Maksimovic\",\"Francis Coquelin\",\"Kevin V\\u00e1zquez\",\"Luca de la Torre\",\"Fernando Calero\",\"Luis Hern\\u00e1ndez\",\"Jos\\u00e9 Morales\",\"Jos\\u00e9 \\u00c1ngel Carmona\",\"Iv\\u00e1n Mart\\u00edn\",\"Toni Lato\",\"Juan Cruz\",\"\\u00d3scar Mingueza\",\"Path\\u00e9 Ciss\",\"\\u00c1lex Fern\\u00e1ndez\",\"Filip J\\u00f6rgensen\",\"Srdjan Babic\",\"Javi Hern\\u00e1ndez\",\"Unai L\\u00f3pez\",\"\\u00c1lvaro Rodr\\u00edguez\",\"Joan Jord\\u00e1n\",\"Jes\\u00fas Navas\",\"Victor Chust\",\"Carles P\\u00e9rez\",\"Manu Vallejo\",\"Javier Puado\",\"Stefan Mitrovic\",\"Andoni Gorosabel\",\"Ilaix Moriba\",\"Aihen Mu\\u00f1oz\",\"Joseba Zald\\u00faa\",\"Ra\\u00fal Garc\\u00eda\",\"Jon Moncayola\",\"Munir El Haddadi\",\"Pepe Reina\",\"Matija Nastasic\",\"Jon Ander Olasagasti\",\"Alberto Moreno\",\"Joaqu\\u00edn\",\"Unai Garc\\u00eda\",\"Chris Ramos\",\"Lautaro Blanco\",\"Chumi\",\"Juan Cruz\",\"Jos\\u00e9 Carlos Lazo\",\"Helibelton Palacios\",\"Hugo Sotelo\",\"Gabriel Paulista\",\"Largie Ramazani\",\"Darko Brasanac\",\"Jos\\u00e9 \\u00c1ngel Carmona\",\"Rober\",\"Tanguy Nianzou\",\"Kike Salas\",\"Iddrisu Baba\",\"Adnan Januzaj\",\"Cristhian Stuani\",\"Andr\\u00e9s Mart\\u00edn\",\"Juan Carlos Mart\\u00edn\",\"Valery Fern\\u00e1ndez\",\"Johan Mojica\",\"Jes\\u00fas V\\u00e1zquez\",\"Carles Ale\\u00f1\\u00e1\",\"Tete Morente\",\"Zouhair Feddal\",\"Abdul Mumin\",\"Pedro Bigas\",\"Amath Ndiaye\",\"Kaiky\",\"Sergio Le\\u00f3n\",\"Juan Cala\",\"Diego Moreno\",\"Papu G\\u00f3mez\",\"\\u00cd\\u00f1igo Eguaras\",\"Dimitri Foulquier\",\"Renato Tapia\",\"Carlos Fern\\u00e1ndez\",\"Roger\",\"Rafa Mir\",\"Gonzalo Verd\\u00fa\",\"\\u00c1lvaro Odriozola\",\"Kike Garc\\u00eda\",\"Ezequiel Ponce\",\"Franck Kessie\",\"Lucas P\\u00e9rez\",\"Reinier\",\"Anthony Lozano\",\"Keidi Bare\",\"Ander Herrera\",\"Oscar Ure\\u00f1a\",\"Cl\\u00e9ment Grenier\",\"Ra\\u00fal de Tom\\u00e1s\",\"Randy Nteka\",\"Paul Akouokou\",\"Francisco Portillo\",\"Alexander Callens\",\"\\u00c1ngel Algobia\",\"Jos\\u00e9 Mari\",\"L\\u00e1zaro\",\"Rona\\u00ebl Pierre-Gabriel\",\"Arnaut Danjuma\",\"Bernardo Espinosa\",\"Portu\",\"Augusto Solari\",\"Mikel Balenziaga\",\"Lisandro Magall\\u00e1n\",\"Cristhian Mosquera\",\"Marcos Andr\\u00e9\",\"Fede San Emeterio\",\"Abner\",\"Malcom Adu\",\"Nicol\\u00e1s Melamed\",\"Aleix Vidal\",\"Jon Magunacelaya\",\"Juanpe\",\"Pierre-Emerick Aubameyang\",\"Hugo Duro\",\"Ander Mart\\u00edn\",\"Nicol\\u00e1s Fern\\u00e1ndez Mercau\",\"Gonzalo Montiel\",\"Dyego Sousa\",\"Benjamin Lecomte\",\"Oier Zarraga\",\"Jes\\u00fas Corona\",\"Martin Hongla\",\"Fidel\",\"Enzo Roco\",\"Gon\\u00e7alo Paci\\u00eancia\",\"Franco Russo\",\"Juanmi Latasa\",\"Jos\\u00e9 Carlos Lazo\",\"Gonzalo Villar\",\"Diego Gonz\\u00e1lez\",\"Beb\\u00e9\",\"Robert Navarro\",\"Antonio Blanco\",\"Aitor Paredes\",\"Ra\\u00fal Parra\",\"Jon Morcillo\",\"Iv\\u00e1n Alejo\",\"Manu Morlanes\",\"Ricard Artero\",\"Rodrigo Battaglia\",\"Ra\\u00fal Guti\",\"Abd\\u00f3n Prats\",\"Ander Capa\",\"Sergio Asenjo\",\"Eden Hazard\",\"Willian Jos\\u00e9\",\"Toni Villa\",\"Sergio Arribas\",\"Salvi S\\u00e1nchez\",\"Radamel Falcao\",\"Antonio S\\u00e1nchez\",\"Manu Morlanes\",\"Jaime Seoane\",\"Omar El Hilali\",\"Simo\",\"David Torres\",\"Pep Chavarr\\u00eda\",\"Be\\u00f1at Turrientes\",\"Roger\",\"Joel Roca\",\"\\u00c1lex Centelles\",\"Curro S\\u00e1nchez\",\"Arnau Puigmal\",\"Josan\",\"Carlos Dom\\u00ednguez\",\"Carlos Mart\\u00edn\",\"Moi Parra\",\"\\u00c1ngel Rodr\\u00edguez\",\"Santiago Arzamendia\",\"Pablo Dur\\u00e1n\",\"Iker Mu\\u00f1oz\",\"Nabili Zoubdi Touaizi\",\"Jos\\u00e9 \\u00c1ngel Pozo\",\"Manu Trigueros\",\"Lago Junior\",\"Jorge Mer\\u00e9\",\"Matt Doherty\",\"Fabrizio Angileri\",\"Jordan Amavi\",\"Loren Mor\\u00f3n\",\"Mamady Diarra\",\"Roberto Arroyo\",\"Pablo Torre\",\"Dani G\\u00f3mez\",\"Luka Koleosho\",\"Javi Llabr\\u00e9s\",\"Fran Delgado\",\"Fran P\\u00e9rez\",\"\\u00c1ngel Alarc\\u00f3n\",\"Mario Su\\u00e1rez\",\"Juanjo Narv\\u00e1ez\",\"Jon Karrikaburu\",\"Maximiliano G\\u00f3mez\",\"Pablo Mu\\u00f1oz\",\"Unai Vencedor\",\"Mariano D\\u00edaz\",\"Houboulang Mendes\",\"Ludwig Augustinsson\",\"\\u00c1lex Revuelta\",\"\\u00c1ngel Alarc\\u00f3n\",\"Arnau Tenas\",\"Chadi Riad\",\"Diego M\\u00e9ndez\",\"Esteban Saveljich\",\"Pedro Ortiz\",\"Williot Swedberg\",\"Domingos Quina\",\"Diego L\\u00f3pez\",\"Marko Milovanovic\",\"Awer Mabil\",\"Kenedy\",\"Jaime Mata\",\"Fernando Ni\\u00f1o\",\"Alejandro Alfaro\",\"Selim Amallah\",\"Youba Diarra\",\"Javier Pastore\",\"Mario Hern\\u00e1ndez\",\"Iv\\u00e1n Romero\",\"Sergio Reguil\\u00f3n\",\"Roger Mart\\u00ednez\",\"Pape Cheikh\",\"Carlos \\u00c1lvarez\",\"Tom\\u00e1s Alarc\\u00f3n\",\"\\u00c1lvaro Gim\\u00e9nez\",\"John Donald\",\"Diego L\\u00f3pez\"],\"xaxis\":\"x\",\"y\":[34,35,31,22,20,24,26,32,22,29,25,25,24,30,29,29,25,25,27,35,25,28,33,34,26,33,28,28,26,31,23,25,31,24,30,34,25,25,19,28,26,22,29,18,30,25,20,31,28,22,28,30,27,29,33,23,18,36,30,21,22,29,24,22,30,29,20,23,30,30,22,37,28,26,23,32,20,30,23,31,26,25,28,30,31,33,23,23,28,37,26,25,31,25,29,26,31,28,26,26,33,27,26,28,31,31,32,22,32,30,27,30,18,21,29,24,29,32,26,37,22,27,28,25,30,31,31,24,22,28,23,27,23,27,22,27,25,30,31,29,31,20,31,19,23,29,28,22,33,26,28,24,30,22,22,28,31,33,28,27,29,29,26,34,30,27,22,34,29,39,34,24,31,33,29,28,19,27,26,27,34,30,33,19,32,23,26,29,29,30,26,26,32,34,24,24,28,23,31,29,21,23,29,31,26,30,26,34,31,30,31,22,28,30,29,28,22,36,30,22,31,33,28,30,20,34,35,31,31,23,29,25,30,27,28,32,22,31,23,31,21,31,27,30,20,22,30,34,26,27,34,24,23,35,36,23,22,25,21,22,22,33,31,27,28,25,29,21,25,24,26,31,25,25,29,24,28,21,20,25,23,28,28,24,21,25,24,23,26,19,30,31,28,22,37,28,24,31,27,29,21,24,21,31,32,31,32,25,24,30,29,28,25,28,31,29,24,27,33,35,21,24,25,30,23,28,30,20,26,24,27,18,28,37,23,25,26,24,32,26,20,25,30,36,24,27,40,29,22,30,41,31,26,24,24,22,27,29,19,32,22,31,21,22,20,20,27,28,36,23,35,23,30,20,25,26,33,24,32,26,19,34,33,21,35,31,29,27,26,32,25,34,27,33,25,26,34,21,29,25,33,19,32,28,25,25,32,30,23,35,21,24,26,33,30,31,35,29,18,26,25,22,21,21,33,21,31,33,23,22,23,26,33,31,24,30,24,33,30,28,28,21,27,24,28,32,20,22,22,23,24,28,24,20,31,26,30,31,33,32,31,28,21,31,37,25,24,26,19,18,20,24,21,32,17,23,27,22,33,22,20,20,35,24,21,20,22,27,31,32,25,31,29,29,29,22,19,19,24,18,20,21,20,18,36,28,20,26,19,22,29,24,28,22,18,21,19,19,31,22,19,23,20,19,27,27,34,22,20,26,24,33,24,21,26,18,25,19,24,31,22,41],\"yaxis\":\"y\",\"type\":\"bar\"}],                        {\"template\":{\"data\":{\"histogram2dcontour\":[{\"type\":\"histogram2dcontour\",\"colorbar\":{\"outlinewidth\":0,\"ticks\":\"\"},\"colorscale\":[[0.0,\"#0d0887\"],[0.1111111111111111,\"#46039f\"],[0.2222222222222222,\"#7201a8\"],[0.3333333333333333,\"#9c179e\"],[0.4444444444444444,\"#bd3786\"],[0.5555555555555556,\"#d8576b\"],[0.6666666666666666,\"#ed7953\"],[0.7777777777777778,\"#fb9f3a\"],[0.8888888888888888,\"#fdca26\"],[1.0,\"#f0f921\"]]}],\"choropleth\":[{\"type\":\"choropleth\",\"colorbar\":{\"outlinewidth\":0,\"ticks\":\"\"}}],\"histogram2d\":[{\"type\":\"histogram2d\",\"colorbar\":{\"outlinewidth\":0,\"ticks\":\"\"},\"colorscale\":[[0.0,\"#0d0887\"],[0.1111111111111111,\"#46039f\"],[0.2222222222222222,\"#7201a8\"],[0.3333333333333333,\"#9c179e\"],[0.4444444444444444,\"#bd3786\"],[0.5555555555555556,\"#d8576b\"],[0.6666666666666666,\"#ed7953\"],[0.7777777777777778,\"#fb9f3a\"],[0.8888888888888888,\"#fdca26\"],[1.0,\"#f0f921\"]]}],\"heatmap\":[{\"type\":\"heatmap\",\"colorbar\":{\"outlinewidth\":0,\"ticks\":\"\"},\"colorscale\":[[0.0,\"#0d0887\"],[0.1111111111111111,\"#46039f\"],[0.2222222222222222,\"#7201a8\"],[0.3333333333333333,\"#9c179e\"],[0.4444444444444444,\"#bd3786\"],[0.5555555555555556,\"#d8576b\"],[0.6666666666666666,\"#ed7953\"],[0.7777777777777778,\"#fb9f3a\"],[0.8888888888888888,\"#fdca26\"],[1.0,\"#f0f921\"]]}],\"heatmapgl\":[{\"type\":\"heatmapgl\",\"colorbar\":{\"outlinewidth\":0,\"ticks\":\"\"},\"colorscale\":[[0.0,\"#0d0887\"],[0.1111111111111111,\"#46039f\"],[0.2222222222222222,\"#7201a8\"],[0.3333333333333333,\"#9c179e\"],[0.4444444444444444,\"#bd3786\"],[0.5555555555555556,\"#d8576b\"],[0.6666666666666666,\"#ed7953\"],[0.7777777777777778,\"#fb9f3a\"],[0.8888888888888888,\"#fdca26\"],[1.0,\"#f0f921\"]]}],\"contourcarpet\":[{\"type\":\"contourcarpet\",\"colorbar\":{\"outlinewidth\":0,\"ticks\":\"\"}}],\"contour\":[{\"type\":\"contour\",\"colorbar\":{\"outlinewidth\":0,\"ticks\":\"\"},\"colorscale\":[[0.0,\"#0d0887\"],[0.1111111111111111,\"#46039f\"],[0.2222222222222222,\"#7201a8\"],[0.3333333333333333,\"#9c179e\"],[0.4444444444444444,\"#bd3786\"],[0.5555555555555556,\"#d8576b\"],[0.6666666666666666,\"#ed7953\"],[0.7777777777777778,\"#fb9f3a\"],[0.8888888888888888,\"#fdca26\"],[1.0,\"#f0f921\"]]}],\"surface\":[{\"type\":\"surface\",\"colorbar\":{\"outlinewidth\":0,\"ticks\":\"\"},\"colorscale\":[[0.0,\"#0d0887\"],[0.1111111111111111,\"#46039f\"],[0.2222222222222222,\"#7201a8\"],[0.3333333333333333,\"#9c179e\"],[0.4444444444444444,\"#bd3786\"],[0.5555555555555556,\"#d8576b\"],[0.6666666666666666,\"#ed7953\"],[0.7777777777777778,\"#fb9f3a\"],[0.8888888888888888,\"#fdca26\"],[1.0,\"#f0f921\"]]}],\"mesh3d\":[{\"type\":\"mesh3d\",\"colorbar\":{\"outlinewidth\":0,\"ticks\":\"\"}}],\"scatter\":[{\"fillpattern\":{\"fillmode\":\"overlay\",\"size\":10,\"solidity\":0.2},\"type\":\"scatter\"}],\"parcoords\":[{\"type\":\"parcoords\",\"line\":{\"colorbar\":{\"outlinewidth\":0,\"ticks\":\"\"}}}],\"scatterpolargl\":[{\"type\":\"scatterpolargl\",\"marker\":{\"colorbar\":{\"outlinewidth\":0,\"ticks\":\"\"}}}],\"bar\":[{\"error_x\":{\"color\":\"#2a3f5f\"},\"error_y\":{\"color\":\"#2a3f5f\"},\"marker\":{\"line\":{\"color\":\"#E5ECF6\",\"width\":0.5},\"pattern\":{\"fillmode\":\"overlay\",\"size\":10,\"solidity\":0.2}},\"type\":\"bar\"}],\"scattergeo\":[{\"type\":\"scattergeo\",\"marker\":{\"colorbar\":{\"outlinewidth\":0,\"ticks\":\"\"}}}],\"scatterpolar\":[{\"type\":\"scatterpolar\",\"marker\":{\"colorbar\":{\"outlinewidth\":0,\"ticks\":\"\"}}}],\"histogram\":[{\"marker\":{\"pattern\":{\"fillmode\":\"overlay\",\"size\":10,\"solidity\":0.2}},\"type\":\"histogram\"}],\"scattergl\":[{\"type\":\"scattergl\",\"marker\":{\"colorbar\":{\"outlinewidth\":0,\"ticks\":\"\"}}}],\"scatter3d\":[{\"type\":\"scatter3d\",\"line\":{\"colorbar\":{\"outlinewidth\":0,\"ticks\":\"\"}},\"marker\":{\"colorbar\":{\"outlinewidth\":0,\"ticks\":\"\"}}}],\"scattermapbox\":[{\"type\":\"scattermapbox\",\"marker\":{\"colorbar\":{\"outlinewidth\":0,\"ticks\":\"\"}}}],\"scatterternary\":[{\"type\":\"scatterternary\",\"marker\":{\"colorbar\":{\"outlinewidth\":0,\"ticks\":\"\"}}}],\"scattercarpet\":[{\"type\":\"scattercarpet\",\"marker\":{\"colorbar\":{\"outlinewidth\":0,\"ticks\":\"\"}}}],\"carpet\":[{\"aaxis\":{\"endlinecolor\":\"#2a3f5f\",\"gridcolor\":\"white\",\"linecolor\":\"white\",\"minorgridcolor\":\"white\",\"startlinecolor\":\"#2a3f5f\"},\"baxis\":{\"endlinecolor\":\"#2a3f5f\",\"gridcolor\":\"white\",\"linecolor\":\"white\",\"minorgridcolor\":\"white\",\"startlinecolor\":\"#2a3f5f\"},\"type\":\"carpet\"}],\"table\":[{\"cells\":{\"fill\":{\"color\":\"#EBF0F8\"},\"line\":{\"color\":\"white\"}},\"header\":{\"fill\":{\"color\":\"#C8D4E3\"},\"line\":{\"color\":\"white\"}},\"type\":\"table\"}],\"barpolar\":[{\"marker\":{\"line\":{\"color\":\"#E5ECF6\",\"width\":0.5},\"pattern\":{\"fillmode\":\"overlay\",\"size\":10,\"solidity\":0.2}},\"type\":\"barpolar\"}],\"pie\":[{\"automargin\":true,\"type\":\"pie\"}]},\"layout\":{\"autotypenumbers\":\"strict\",\"colorway\":[\"#636efa\",\"#EF553B\",\"#00cc96\",\"#ab63fa\",\"#FFA15A\",\"#19d3f3\",\"#FF6692\",\"#B6E880\",\"#FF97FF\",\"#FECB52\"],\"font\":{\"color\":\"#2a3f5f\"},\"hovermode\":\"closest\",\"hoverlabel\":{\"align\":\"left\"},\"paper_bgcolor\":\"white\",\"plot_bgcolor\":\"#E5ECF6\",\"polar\":{\"bgcolor\":\"#E5ECF6\",\"angularaxis\":{\"gridcolor\":\"white\",\"linecolor\":\"white\",\"ticks\":\"\"},\"radialaxis\":{\"gridcolor\":\"white\",\"linecolor\":\"white\",\"ticks\":\"\"}},\"ternary\":{\"bgcolor\":\"#E5ECF6\",\"aaxis\":{\"gridcolor\":\"white\",\"linecolor\":\"white\",\"ticks\":\"\"},\"baxis\":{\"gridcolor\":\"white\",\"linecolor\":\"white\",\"ticks\":\"\"},\"caxis\":{\"gridcolor\":\"white\",\"linecolor\":\"white\",\"ticks\":\"\"}},\"coloraxis\":{\"colorbar\":{\"outlinewidth\":0,\"ticks\":\"\"}},\"colorscale\":{\"sequential\":[[0.0,\"#0d0887\"],[0.1111111111111111,\"#46039f\"],[0.2222222222222222,\"#7201a8\"],[0.3333333333333333,\"#9c179e\"],[0.4444444444444444,\"#bd3786\"],[0.5555555555555556,\"#d8576b\"],[0.6666666666666666,\"#ed7953\"],[0.7777777777777778,\"#fb9f3a\"],[0.8888888888888888,\"#fdca26\"],[1.0,\"#f0f921\"]],\"sequentialminus\":[[0.0,\"#0d0887\"],[0.1111111111111111,\"#46039f\"],[0.2222222222222222,\"#7201a8\"],[0.3333333333333333,\"#9c179e\"],[0.4444444444444444,\"#bd3786\"],[0.5555555555555556,\"#d8576b\"],[0.6666666666666666,\"#ed7953\"],[0.7777777777777778,\"#fb9f3a\"],[0.8888888888888888,\"#fdca26\"],[1.0,\"#f0f921\"]],\"diverging\":[[0,\"#8e0152\"],[0.1,\"#c51b7d\"],[0.2,\"#de77ae\"],[0.3,\"#f1b6da\"],[0.4,\"#fde0ef\"],[0.5,\"#f7f7f7\"],[0.6,\"#e6f5d0\"],[0.7,\"#b8e186\"],[0.8,\"#7fbc41\"],[0.9,\"#4d9221\"],[1,\"#276419\"]]},\"xaxis\":{\"gridcolor\":\"white\",\"linecolor\":\"white\",\"ticks\":\"\",\"title\":{\"standoff\":15},\"zerolinecolor\":\"white\",\"automargin\":true,\"zerolinewidth\":2},\"yaxis\":{\"gridcolor\":\"white\",\"linecolor\":\"white\",\"ticks\":\"\",\"title\":{\"standoff\":15},\"zerolinecolor\":\"white\",\"automargin\":true,\"zerolinewidth\":2},\"scene\":{\"xaxis\":{\"backgroundcolor\":\"#E5ECF6\",\"gridcolor\":\"white\",\"linecolor\":\"white\",\"showbackground\":true,\"ticks\":\"\",\"zerolinecolor\":\"white\",\"gridwidth\":2},\"yaxis\":{\"backgroundcolor\":\"#E5ECF6\",\"gridcolor\":\"white\",\"linecolor\":\"white\",\"showbackground\":true,\"ticks\":\"\",\"zerolinecolor\":\"white\",\"gridwidth\":2},\"zaxis\":{\"backgroundcolor\":\"#E5ECF6\",\"gridcolor\":\"white\",\"linecolor\":\"white\",\"showbackground\":true,\"ticks\":\"\",\"zerolinecolor\":\"white\",\"gridwidth\":2}},\"shapedefaults\":{\"line\":{\"color\":\"#2a3f5f\"}},\"annotationdefaults\":{\"arrowcolor\":\"#2a3f5f\",\"arrowhead\":0,\"arrowwidth\":1},\"geo\":{\"bgcolor\":\"white\",\"landcolor\":\"#E5ECF6\",\"subunitcolor\":\"white\",\"showland\":true,\"showlakes\":true,\"lakecolor\":\"white\"},\"title\":{\"x\":0.05},\"mapbox\":{\"style\":\"light\"}}},\"xaxis\":{\"anchor\":\"y\",\"domain\":[0.0,1.0],\"title\":{\"text\":\"Player Name\"}},\"yaxis\":{\"anchor\":\"x\",\"domain\":[0.0,1.0],\"title\":{\"text\":\"Age\"}},\"legend\":{\"tracegroupgap\":0},\"margin\":{\"t\":60},\"barmode\":\"relative\"},                        {\"responsive\": true}                    ).then(function(){\n",
       "                            \n",
       "var gd = document.getElementById('232a2bc6-8371-44eb-bc7e-ac3065fd8662');\n",
       "var x = new MutationObserver(function (mutations, observer) {{\n",
       "        var display = window.getComputedStyle(gd).display;\n",
       "        if (!display || display === 'none') {{\n",
       "            console.log([gd, 'removed!']);\n",
       "            Plotly.purge(gd);\n",
       "            observer.disconnect();\n",
       "        }}\n",
       "}});\n",
       "\n",
       "// Listen for the removal of the full notebook cells\n",
       "var notebookContainer = gd.closest('#notebook-container');\n",
       "if (notebookContainer) {{\n",
       "    x.observe(notebookContainer, {childList: true});\n",
       "}}\n",
       "\n",
       "// Listen for the clearing of the current output cell\n",
       "var outputEl = gd.closest('.output');\n",
       "if (outputEl) {{\n",
       "    x.observe(outputEl, {childList: true});\n",
       "}}\n",
       "\n",
       "                        })                };                });            </script>        </div>"
      ]
     },
     "metadata": {},
     "output_type": "display_data"
    }
   ],
   "source": [
    "import plotly.express as px\n",
    "data = pd.read_csv('lalaiga 2 all player final - lalaiga 2 all player.csv')\n",
    "fig = px.bar(data, x='Player Name', y='Age')\n",
    "fig.show()"
   ]
  },
  {
   "cell_type": "code",
   "execution_count": null,
   "id": "a1fee0a3",
   "metadata": {},
   "outputs": [],
   "source": []
  }
 ],
 "metadata": {
  "kernelspec": {
   "display_name": "Python 3 (ipykernel)",
   "language": "python",
   "name": "python3"
  },
  "language_info": {
   "codemirror_mode": {
    "name": "ipython",
    "version": 3
   },
   "file_extension": ".py",
   "mimetype": "text/x-python",
   "name": "python",
   "nbconvert_exporter": "python",
   "pygments_lexer": "ipython3",
   "version": "3.9.13"
  }
 },
 "nbformat": 4,
 "nbformat_minor": 5
}
