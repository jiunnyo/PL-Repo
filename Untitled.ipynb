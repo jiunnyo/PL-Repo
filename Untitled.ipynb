{
 "cells": [
  {
   "cell_type": "code",
   "execution_count": 2,
   "id": "9904a29c",
   "metadata": {},
   "outputs": [
    {
     "data": {
      "text/html": [
       "<div>\n",
       "<style scoped>\n",
       "    .dataframe tbody tr th:only-of-type {\n",
       "        vertical-align: middle;\n",
       "    }\n",
       "\n",
       "    .dataframe tbody tr th {\n",
       "        vertical-align: top;\n",
       "    }\n",
       "\n",
       "    .dataframe thead th {\n",
       "        text-align: right;\n",
       "    }\n",
       "</style>\n",
       "<table border=\"1\" class=\"dataframe\">\n",
       "  <thead>\n",
       "    <tr style=\"text-align: right;\">\n",
       "      <th></th>\n",
       "      <th>Album</th>\n",
       "      <th>Artist</th>\n",
       "      <th>Year</th>\n",
       "      <th>Record</th>\n",
       "      <th>Nation</th>\n",
       "      <th>listened</th>\n",
       "    </tr>\n",
       "  </thead>\n",
       "  <tbody>\n",
       "    <tr>\n",
       "      <th>0</th>\n",
       "      <td>Whats Going On</td>\n",
       "      <td>Marvin Gaye</td>\n",
       "      <td>1971</td>\n",
       "      <td>Tamla/Motown</td>\n",
       "      <td>1</td>\n",
       "      <td>0</td>\n",
       "    </tr>\n",
       "    <tr>\n",
       "      <th>1</th>\n",
       "      <td>Pet Sounds</td>\n",
       "      <td>The Beach Boys</td>\n",
       "      <td>1966</td>\n",
       "      <td>Capitol</td>\n",
       "      <td>1</td>\n",
       "      <td>0</td>\n",
       "    </tr>\n",
       "    <tr>\n",
       "      <th>2</th>\n",
       "      <td>Songs in the Key of Life</td>\n",
       "      <td>Stevie Wonder</td>\n",
       "      <td>1976</td>\n",
       "      <td>Tamla/Motown</td>\n",
       "      <td>1</td>\n",
       "      <td>1</td>\n",
       "    </tr>\n",
       "    <tr>\n",
       "      <th>3</th>\n",
       "      <td>Abbey Road</td>\n",
       "      <td>The Beatles</td>\n",
       "      <td>1969</td>\n",
       "      <td>Apple</td>\n",
       "      <td>0</td>\n",
       "      <td>1</td>\n",
       "    </tr>\n",
       "    <tr>\n",
       "      <th>4</th>\n",
       "      <td>Rumors</td>\n",
       "      <td>Fleetwood Mac</td>\n",
       "      <td>1977</td>\n",
       "      <td>Warner Bros.</td>\n",
       "      <td>0</td>\n",
       "      <td>0</td>\n",
       "    </tr>\n",
       "  </tbody>\n",
       "</table>\n",
       "</div>"
      ],
      "text/plain": [
       "                      Album           Artist  Year        Record  Nation  \\\n",
       "0            Whats Going On     Marvin Gaye   1971  Tamla/Motown       1   \n",
       "1                Pet Sounds  The Beach Boys   1966       Capitol       1   \n",
       "2  Songs in the Key of Life   Stevie Wonder   1976  Tamla/Motown       1   \n",
       "3                Abbey Road      The Beatles  1969         Apple       0   \n",
       "4                    Rumors    Fleetwood Mac  1977  Warner Bros.       0   \n",
       "\n",
       "   listened  \n",
       "0         0  \n",
       "1         0  \n",
       "2         1  \n",
       "3         1  \n",
       "4         0  "
      ]
     },
     "execution_count": 2,
     "metadata": {},
     "output_type": "execute_result"
    }
   ],
   "source": [
    "#匯入csv\n",
    "\n",
    "import pandas as pd\n",
    "\n",
    "album1 = pd.read_csv(\"Album_example1.csv\")\n",
    "album1\n"
   ]
  },
  {
   "cell_type": "code",
   "execution_count": 3,
   "id": "aaa8de6b",
   "metadata": {},
   "outputs": [
    {
     "data": {
      "text/html": [
       "<div>\n",
       "<style scoped>\n",
       "    .dataframe tbody tr th:only-of-type {\n",
       "        vertical-align: middle;\n",
       "    }\n",
       "\n",
       "    .dataframe tbody tr th {\n",
       "        vertical-align: top;\n",
       "    }\n",
       "\n",
       "    .dataframe thead th {\n",
       "        text-align: right;\n",
       "    }\n",
       "</style>\n",
       "<table border=\"1\" class=\"dataframe\">\n",
       "  <thead>\n",
       "    <tr style=\"text-align: right;\">\n",
       "      <th></th>\n",
       "      <th>Album</th>\n",
       "      <th>Artist</th>\n",
       "      <th>Year</th>\n",
       "      <th>Record</th>\n",
       "      <th>Nation</th>\n",
       "      <th>listened</th>\n",
       "    </tr>\n",
       "  </thead>\n",
       "  <tbody>\n",
       "    <tr>\n",
       "      <th>0</th>\n",
       "      <td>Purple Rain</td>\n",
       "      <td>Prince and the Revolution</td>\n",
       "      <td>1984</td>\n",
       "      <td>Warner Bros.</td>\n",
       "      <td>1</td>\n",
       "      <td>1</td>\n",
       "    </tr>\n",
       "    <tr>\n",
       "      <th>1</th>\n",
       "      <td>Are You Experienced</td>\n",
       "      <td>Jimi Hendrix</td>\n",
       "      <td>1967</td>\n",
       "      <td>Track</td>\n",
       "      <td>1</td>\n",
       "      <td>1</td>\n",
       "    </tr>\n",
       "    <tr>\n",
       "      <th>2</th>\n",
       "      <td>Sgt. Pepper’s Lonely Hearts Club Band</td>\n",
       "      <td>The Beatles</td>\n",
       "      <td>1967</td>\n",
       "      <td>Capitol</td>\n",
       "      <td>0</td>\n",
       "      <td>1</td>\n",
       "    </tr>\n",
       "    <tr>\n",
       "      <th>3</th>\n",
       "      <td>White Album</td>\n",
       "      <td>The Beatles</td>\n",
       "      <td>1968</td>\n",
       "      <td>Apple</td>\n",
       "      <td>0</td>\n",
       "      <td>1</td>\n",
       "    </tr>\n",
       "    <tr>\n",
       "      <th>4</th>\n",
       "      <td>Nevermind</td>\n",
       "      <td>Nirvana</td>\n",
       "      <td>1991</td>\n",
       "      <td>Geffen</td>\n",
       "      <td>0</td>\n",
       "      <td>1</td>\n",
       "    </tr>\n",
       "  </tbody>\n",
       "</table>\n",
       "</div>"
      ],
      "text/plain": [
       "                                   Album                      Artist  Year  \\\n",
       "0                            Purple Rain  Prince and the Revolution   1984   \n",
       "1                    Are You Experienced                Jimi Hendrix  1967   \n",
       "2  Sgt. Pepper’s Lonely Hearts Club Band                 The Beatles  1967   \n",
       "3                            White Album                 The Beatles  1968   \n",
       "4                              Nevermind                     Nirvana  1991   \n",
       "\n",
       "         Record  Nation  listened  \n",
       "0  Warner Bros.       1         1  \n",
       "1         Track       1         1  \n",
       "2       Capitol       0         1  \n",
       "3         Apple       0         1  \n",
       "4        Geffen       0         1  "
      ]
     },
     "execution_count": 3,
     "metadata": {},
     "output_type": "execute_result"
    }
   ],
   "source": [
    "album2 = pd.read_csv(\"Album_example2.csv\")\n",
    "album2"
   ]
  },
  {
   "cell_type": "code",
   "execution_count": 4,
   "id": "73574104",
   "metadata": {},
   "outputs": [],
   "source": [
    "# dataframe to set\n",
    "set_album1 = set(album1[\"Artist\"])\n",
    "set_album2 = set(album2[\"Artist\"])\n"
   ]
  },
  {
   "cell_type": "code",
   "execution_count": 5,
   "id": "f6b5bd3a",
   "metadata": {},
   "outputs": [
    {
     "data": {
      "text/plain": [
       "{'Fleetwood Mac',\n",
       " 'Marvin Gaye ',\n",
       " 'Stevie Wonder ',\n",
       " 'The Beach Boys ',\n",
       " 'The Beatles'}"
      ]
     },
     "execution_count": 5,
     "metadata": {},
     "output_type": "execute_result"
    }
   ],
   "source": [
    "set_album1"
   ]
  },
  {
   "cell_type": "code",
   "execution_count": 6,
   "id": "e16fc85b",
   "metadata": {},
   "outputs": [
    {
     "data": {
      "text/plain": [
       "{'Jimi Hendrix', 'Nirvana', 'Prince and the Revolution ', 'The Beatles'}"
      ]
     },
     "execution_count": 6,
     "metadata": {},
     "output_type": "execute_result"
    }
   ],
   "source": [
    "set_album2"
   ]
  },
  {
   "cell_type": "code",
   "execution_count": 7,
   "id": "2719eb34",
   "metadata": {},
   "outputs": [
    {
     "data": {
      "text/plain": [
       "{'The Beatles'}"
      ]
     },
     "execution_count": 7,
     "metadata": {},
     "output_type": "execute_result"
    }
   ],
   "source": [
    "# 交集\n",
    "# RollingStone500大專輯前10名，有4個都是The Beatles的專輯，也只有他們重複獲選\n",
    "set_album1 & set_album2"
   ]
  },
  {
   "cell_type": "code",
   "execution_count": 8,
   "id": "035aa293",
   "metadata": {},
   "outputs": [
    {
     "data": {
      "text/plain": [
       "{'Fleetwood Mac',\n",
       " 'Jimi Hendrix',\n",
       " 'Marvin Gaye ',\n",
       " 'Nirvana',\n",
       " 'Prince and the Revolution ',\n",
       " 'Stevie Wonder ',\n",
       " 'The Beach Boys ',\n",
       " 'The Beatles'}"
      ]
     },
     "execution_count": 8,
     "metadata": {},
     "output_type": "execute_result"
    }
   ],
   "source": [
    "#聯集\n",
    "#專輯前10名裡的歌手共有8位\n",
    "set_album1 | set_album2"
   ]
  },
  {
   "cell_type": "code",
   "execution_count": 9,
   "id": "ce9ad76d",
   "metadata": {},
   "outputs": [
    {
     "data": {
      "text/plain": [
       "{'Fleetwood Mac', 'Marvin Gaye ', 'Stevie Wonder ', 'The Beach Boys '}"
      ]
     },
     "execution_count": 9,
     "metadata": {},
     "output_type": "execute_result"
    }
   ],
   "source": [
    "#差集\n",
    "# 前5項只有一項是The Beatles，其他4項是各個不同歌手的專輯\n",
    "set_album1 - set_album2"
   ]
  },
  {
   "cell_type": "code",
   "execution_count": 10,
   "id": "66a441b3",
   "metadata": {},
   "outputs": [
    {
     "data": {
      "text/plain": [
       "{'Jimi Hendrix', 'Nirvana', 'Prince and the Revolution '}"
      ]
     },
     "execution_count": 10,
     "metadata": {},
     "output_type": "execute_result"
    }
   ],
   "source": [
    "#差集\n",
    "#後5項有2項是The Beatles\n",
    "set_album2 - set_album1"
   ]
  },
  {
   "cell_type": "code",
   "execution_count": 11,
   "id": "b8908b08",
   "metadata": {},
   "outputs": [
    {
     "data": {
      "text/plain": [
       "{'Fleetwood Mac',\n",
       " 'Jimi Hendrix',\n",
       " 'Marvin Gaye ',\n",
       " 'Nirvana',\n",
       " 'Prince and the Revolution ',\n",
       " 'Stevie Wonder ',\n",
       " 'The Beach Boys '}"
      ]
     },
     "execution_count": 11,
     "metadata": {},
     "output_type": "execute_result"
    }
   ],
   "source": [
    "#對稱差集\n",
    "#聯集 - 交集\n",
    "#除了The Beatles 以外所有入圍前10名的歌手(7位)\n",
    "set_all = set_album1 | set_album2\n",
    "set_both = set_album1 & set_album2\n",
    "set_all - set_both\n"
   ]
  },
  {
   "cell_type": "code",
   "execution_count": null,
   "id": "a77beec6",
   "metadata": {},
   "outputs": [],
   "source": []
  }
 ],
 "metadata": {
  "kernelspec": {
   "display_name": "Python 3 (ipykernel)",
   "language": "python",
   "name": "python3"
  },
  "language_info": {
   "codemirror_mode": {
    "name": "ipython",
    "version": 3
   },
   "file_extension": ".py",
   "mimetype": "text/x-python",
   "name": "python",
   "nbconvert_exporter": "python",
   "pygments_lexer": "ipython3",
   "version": "3.9.13"
  }
 },
 "nbformat": 4,
 "nbformat_minor": 5
}
