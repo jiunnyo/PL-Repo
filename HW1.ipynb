{
 "cells": [
  {
   "cell_type": "code",
   "execution_count": 2,
   "id": "d2cd6a77",
   "metadata": {},
   "outputs": [
    {
     "data": {
      "text/html": [
       "<div>\n",
       "<style scoped>\n",
       "    .dataframe tbody tr th:only-of-type {\n",
       "        vertical-align: middle;\n",
       "    }\n",
       "\n",
       "    .dataframe tbody tr th {\n",
       "        vertical-align: top;\n",
       "    }\n",
       "\n",
       "    .dataframe thead th {\n",
       "        text-align: right;\n",
       "    }\n",
       "</style>\n",
       "<table border=\"1\" class=\"dataframe\">\n",
       "  <thead>\n",
       "    <tr style=\"text-align: right;\">\n",
       "      <th></th>\n",
       "      <th>Player Name</th>\n",
       "      <th>Team-name</th>\n",
       "      <th>Age</th>\n",
       "      <th>Position</th>\n",
       "      <th>App</th>\n",
       "      <th>MinP</th>\n",
       "      <th>Goals</th>\n",
       "      <th>Assist</th>\n",
       "      <th>YC</th>\n",
       "      <th>RC</th>\n",
       "      <th>SPG</th>\n",
       "      <th>PS%</th>\n",
       "      <th>AW</th>\n",
       "      <th>MOTM</th>\n",
       "      <th>Rating</th>\n",
       "    </tr>\n",
       "  </thead>\n",
       "  <tbody>\n",
       "    <tr>\n",
       "      <th>0</th>\n",
       "      <td>Robert Lewandowski</td>\n",
       "      <td>Barcelona</td>\n",
       "      <td>34</td>\n",
       "      <td>FW</td>\n",
       "      <td>20(1)</td>\n",
       "      <td>1682</td>\n",
       "      <td>15.0</td>\n",
       "      <td>5.0</td>\n",
       "      <td>NaN</td>\n",
       "      <td>1.0</td>\n",
       "      <td>3.8</td>\n",
       "      <td>79</td>\n",
       "      <td>1.6</td>\n",
       "      <td>7.0</td>\n",
       "      <td>7.53</td>\n",
       "    </tr>\n",
       "    <tr>\n",
       "      <th>1</th>\n",
       "      <td>Karim Benzema</td>\n",
       "      <td>Real Madrid</td>\n",
       "      <td>35</td>\n",
       "      <td>FW</td>\n",
       "      <td>15</td>\n",
       "      <td>1306</td>\n",
       "      <td>11.0</td>\n",
       "      <td>3.0</td>\n",
       "      <td>1.0</td>\n",
       "      <td>NaN</td>\n",
       "      <td>4.7</td>\n",
       "      <td>87</td>\n",
       "      <td>0.7</td>\n",
       "      <td>4.0</td>\n",
       "      <td>7.45</td>\n",
       "    </tr>\n",
       "    <tr>\n",
       "      <th>2</th>\n",
       "      <td>Antoine Griezmann</td>\n",
       "      <td>Atletico</td>\n",
       "      <td>31</td>\n",
       "      <td>AM(CLR) FW</td>\n",
       "      <td>18(7)</td>\n",
       "      <td>1693</td>\n",
       "      <td>8.0</td>\n",
       "      <td>8.0</td>\n",
       "      <td>NaN</td>\n",
       "      <td>NaN</td>\n",
       "      <td>2.6</td>\n",
       "      <td>81.5</td>\n",
       "      <td>0.8</td>\n",
       "      <td>5.0</td>\n",
       "      <td>7.45</td>\n",
       "    </tr>\n",
       "    <tr>\n",
       "      <th>3</th>\n",
       "      <td>Vinícius Júnior</td>\n",
       "      <td>Real Madrid</td>\n",
       "      <td>22</td>\n",
       "      <td>AM(L) FW</td>\n",
       "      <td>24</td>\n",
       "      <td>2122</td>\n",
       "      <td>8.0</td>\n",
       "      <td>4.0</td>\n",
       "      <td>8.0</td>\n",
       "      <td>NaN</td>\n",
       "      <td>2.5</td>\n",
       "      <td>82.3</td>\n",
       "      <td>NaN</td>\n",
       "      <td>4.0</td>\n",
       "      <td>7.38</td>\n",
       "    </tr>\n",
       "    <tr>\n",
       "      <th>4</th>\n",
       "      <td>Pedri</td>\n",
       "      <td>Barcelona</td>\n",
       "      <td>20</td>\n",
       "      <td>AM(CL)</td>\n",
       "      <td>18(3)</td>\n",
       "      <td>1634</td>\n",
       "      <td>6.0</td>\n",
       "      <td>NaN</td>\n",
       "      <td>2.0</td>\n",
       "      <td>NaN</td>\n",
       "      <td>0.8</td>\n",
       "      <td>88.5</td>\n",
       "      <td>NaN</td>\n",
       "      <td>3.0</td>\n",
       "      <td>7.28</td>\n",
       "    </tr>\n",
       "  </tbody>\n",
       "</table>\n",
       "</div>"
      ],
      "text/plain": [
       "          Player Name    Team-name  Age       Position    App  MinP  Goals  \\\n",
       "0  Robert Lewandowski    Barcelona   34             FW  20(1)  1682   15.0   \n",
       "1       Karim Benzema  Real Madrid   35             FW     15  1306   11.0   \n",
       "2   Antoine Griezmann     Atletico   31     AM(CLR) FW  18(7)  1693    8.0   \n",
       "3     Vinícius Júnior  Real Madrid   22       AM(L) FW     24  2122    8.0   \n",
       "4               Pedri    Barcelona   20         AM(CL)  18(3)  1634    6.0   \n",
       "\n",
       "   Assist   YC   RC  SPG   PS%   AW  MOTM  Rating  \n",
       "0     5.0  NaN  1.0  3.8    79  1.6   7.0    7.53  \n",
       "1     3.0  1.0  NaN  4.7    87  0.7   4.0    7.45  \n",
       "2     8.0  NaN  NaN  2.6  81.5  0.8   5.0    7.45  \n",
       "3     4.0  8.0  NaN  2.5  82.3  NaN   4.0    7.38  \n",
       "4     NaN  2.0  NaN  0.8  88.5  NaN   3.0    7.28  "
      ]
     },
     "execution_count": 2,
     "metadata": {},
     "output_type": "execute_result"
    }
   ],
   "source": [
    "import pandas as pd\n",
    "data = pd.read_csv('lalaiga 2 all player final - lalaiga 2 all player.csv')\n",
    "data.head()"
   ]
  },
  {
   "cell_type": "code",
   "execution_count": 6,
   "id": "2305e974",
   "metadata": {},
   "outputs": [
    {
     "name": "stdout",
     "output_type": "stream",
     "text": [
      "平均年齡： 26.843173431734318\n"
     ]
    }
   ],
   "source": [
    "import pandas as pd\n",
    "\n",
    "df = pd.read_csv(\"lalaiga 2 all player final - lalaiga 2 all player.csv\")\n",
    "\n",
    "# 計算\"Age\"欄位的平均值\n",
    "avg_age = df[\"Age\"].mean()\n",
    "\n",
    "# 輸出平均值\n",
    "print(\"平均年齡：\", avg_age)"
   ]
  },
  {
   "cell_type": "code",
   "execution_count": 7,
   "id": "835b9d13",
   "metadata": {},
   "outputs": [
    {
     "name": "stdout",
     "output_type": "stream",
     "text": [
      "出現次數最多的隊伍是： Cadiz\n"
     ]
    }
   ],
   "source": [
    "import pandas as pd\n",
    "\n",
    "df = pd.read_csv(\"lalaiga 2 all player final - lalaiga 2 all player.csv\")\n",
    "\n",
    "# 計算\"Team-name\"欄位中每個隊伍出現的次數\n",
    "team_counts = df[\"Team-name\"].value_counts()\n",
    "\n",
    "# 找出出現次數最多的隊伍\n",
    "most_frequent_team = team_counts.index[0]\n",
    "\n",
    "# 輸出結果\n",
    "print(\"出現次數最多的隊伍是：\", most_frequent_team)"
   ]
  },
  {
   "cell_type": "code",
   "execution_count": 8,
   "id": "56131663",
   "metadata": {},
   "outputs": [
    {
     "name": "stdout",
     "output_type": "stream",
     "text": [
      "平均進球數： 2.6527777777777777\n"
     ]
    }
   ],
   "source": [
    "import pandas as pd\n",
    "\n",
    "df = pd.read_csv(\"lalaiga 2 all player final - lalaiga 2 all player.csv\")\n",
    "\n",
    "# 計算\"Goals\"欄位的平均值\n",
    "avg_goals = df[\"Goals\"].mean()\n",
    "\n",
    "# 輸出平均值\n",
    "print(\"平均進球數：\", avg_goals)"
   ]
  },
  {
   "cell_type": "code",
   "execution_count": 9,
   "id": "ea49209a",
   "metadata": {},
   "outputs": [
    {
     "name": "stdout",
     "output_type": "stream",
     "text": [
      "平均助攻數： 1.9320388349514563\n"
     ]
    }
   ],
   "source": [
    "import pandas as pd\n",
    "\n",
    "df = pd.read_csv(\"lalaiga 2 all player final - lalaiga 2 all player.csv\")\n",
    "\n",
    "# 計算\"Assist\"欄位的平均值\n",
    "avg_assist = df[\"Assist\"].mean()\n",
    "\n",
    "# 輸出平均值\n",
    "print(\"平均助攻數：\", avg_assist)"
   ]
  },
  {
   "cell_type": "code",
   "execution_count": 10,
   "id": "4bcd0739",
   "metadata": {},
   "outputs": [
    {
     "name": "stdout",
     "output_type": "stream",
     "text": [
      "年齡最大的球員為： Joaquín\n"
     ]
    }
   ],
   "source": [
    "import pandas as pd\n",
    "\n",
    "df = pd.read_csv(\"lalaiga 2 all player final - lalaiga 2 all player.csv\")\n",
    "\n",
    "# 找到\"Age\"欄位的最大值對應的行\n",
    "max_age_row = df.loc[df[\"Age\"].idxmax()]\n",
    "\n",
    "# 取得對應的\"Player Name\"欄位的值\n",
    "player_name = max_age_row[\"Player Name\"]\n",
    "\n",
    "# 輸出結果\n",
    "print(\"年齡最大的球員為：\", player_name)"
   ]
  },
  {
   "cell_type": "code",
   "execution_count": 13,
   "id": "f97d0a9a",
   "metadata": {},
   "outputs": [
    {
     "name": "stdout",
     "output_type": "stream",
     "text": [
      "球員位置最多的球員是： Athletic Bilbao\n"
     ]
    }
   ],
   "source": [
    "import pandas as pd\n",
    "\n",
    "df = pd.read_csv(\"lalaiga 2 all player final - lalaiga 2 all player.csv\")\n",
    "\n",
    "# 找到\"Position\"欄位出現最多次的值\n",
    "most_common_position = df[\"Position\"].mode()[0]\n",
    "\n",
    "# 找到對應\"Position\"欄位值的位置\n",
    "team_with_most_common_position = df.loc[df[\"Position\"] == most_common_position, \"Team-name\"].iloc[0]\n",
    "\n",
    "# 輸出結果\n",
    "print(\"球員位置最多的球員是：\", team_with_most_common_position)"
   ]
  },
  {
   "cell_type": "code",
   "execution_count": 12,
   "id": "49aeff34",
   "metadata": {},
   "outputs": [
    {
     "name": "stdout",
     "output_type": "stream",
     "text": [
      "球員位置最多的位置是：    D(C)\n"
     ]
    }
   ],
   "source": [
    "import pandas as pd\n",
    "\n",
    "df = pd.read_csv(\"lalaiga 2 all player final - lalaiga 2 all player.csv\")\n",
    "\n",
    "# 找到\"Position\"欄位出現最多次的值\n",
    "most_common_position = df[\"Position\"].mode()[0]\n",
    "\n",
    "# 輸出結果\n",
    "print(\"球員位置最多的位置是：\", most_common_position)"
   ]
  },
  {
   "cell_type": "code",
   "execution_count": 14,
   "id": "ef07d3ad",
   "metadata": {},
   "outputs": [
    {
     "name": "stdout",
     "output_type": "stream",
     "text": [
      "所有球員平均Rating為： 6.477675276752759\n"
     ]
    }
   ],
   "source": [
    "import pandas as pd\n",
    "\n",
    "df = pd.read_csv(\"lalaiga 2 all player final - lalaiga 2 all player.csv\")\n",
    "\n",
    "# 計算\"Rating\"欄位的平均值\n",
    "rating_mean = df[\"Rating\"].mean()\n",
    "\n",
    "# 輸出結果\n",
    "print(\"所有球員平均Rating為：\", rating_mean)"
   ]
  },
  {
   "cell_type": "code",
   "execution_count": 15,
   "id": "6d0b4e5b",
   "metadata": {},
   "outputs": [
    {
     "name": "stdout",
     "output_type": "stream",
     "text": [
      "球員進球數最多相差： 14.0\n"
     ]
    }
   ],
   "source": [
    "import pandas as pd\n",
    "\n",
    "df = pd.read_csv(\"lalaiga 2 all player final - lalaiga 2 all player.csv\")\n",
    "\n",
    "# 計算\"Goals\"欄位最大值與最小值的差\n",
    "goals_diff = df[\"Goals\"].max() - df[\"Goals\"].min()\n",
    "\n",
    "# 輸出結果\n",
    "print(\"球員進球數最多相差：\", goals_diff)"
   ]
  },
  {
   "cell_type": "code",
   "execution_count": 16,
   "id": "bea0a12b",
   "metadata": {},
   "outputs": [
    {
     "name": "stdout",
     "output_type": "stream",
     "text": [
      "球員年齡差距最大為： 24\n"
     ]
    }
   ],
   "source": [
    "import pandas as pd\n",
    "\n",
    "df = pd.read_csv(\"lalaiga 2 all player final - lalaiga 2 all player.csv\")\n",
    "\n",
    "# 計算\"Age\"欄位最大值與最小值的差\n",
    "age_diff = df[\"Age\"].max() - df[\"Age\"].min()\n",
    "\n",
    "# 輸出結果\n",
    "print(\"球員年齡差距最大為：\", age_diff)"
   ]
  },
  {
   "cell_type": "code",
   "execution_count": null,
   "id": "8a6038d9",
   "metadata": {},
   "outputs": [],
   "source": []
  }
 ],
 "metadata": {
  "kernelspec": {
   "display_name": "Python 3 (ipykernel)",
   "language": "python",
   "name": "python3"
  },
  "language_info": {
   "codemirror_mode": {
    "name": "ipython",
    "version": 3
   },
   "file_extension": ".py",
   "mimetype": "text/x-python",
   "name": "python",
   "nbconvert_exporter": "python",
   "pygments_lexer": "ipython3",
   "version": "3.9.13"
  }
 },
 "nbformat": 4,
 "nbformat_minor": 5
}
