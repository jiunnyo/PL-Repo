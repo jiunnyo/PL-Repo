{
 "cells": [
  {
   "cell_type": "code",
   "execution_count": null,
   "id": "148a1af8",
   "metadata": {},
   "outputs": [],
   "source": [
    "import pandas as pd\n",
    "\n",
    "# read csv file\n",
    "rank2021 = pd.read_csv(\"20~21.csv\")\n",
    "rank2122 = pd.read_csv(\"21~22.csv\")\n",
    "rank2021"
   ]
  },
  {
   "cell_type": "code",
   "execution_count": null,
   "id": "97c89207",
   "metadata": {},
   "outputs": [],
   "source": []
  }
 ],
 "metadata": {
  "kernelspec": {
   "display_name": "Python 3 (ipykernel)",
   "language": "python",
   "name": "python3"
  },
  "language_info": {
   "codemirror_mode": {
    "name": "ipython",
    "version": 3
   },
   "file_extension": ".py",
   "mimetype": "text/x-python",
   "name": "python",
   "nbconvert_exporter": "python",
   "pygments_lexer": "ipython3",
   "version": "3.9.13"
  }
 },
 "nbformat": 4,
 "nbformat_minor": 5
}
